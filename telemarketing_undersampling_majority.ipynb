{
 "cells": [
  {
   "cell_type": "code",
   "execution_count": 19,
   "metadata": {
    "collapsed": false
   },
   "outputs": [],
   "source": [
    "from sklearn.utils import resample\n",
    "from sklearn.preprocessing import StandardScaler\n",
    "from sklearn.metrics import classification_report\n",
    "from sklearn.metrics import confusion_matrix, roc_curve, roc_auc_score, average_precision_score, precision_recall_curve, auc\n",
    "from sklearn.cross_validation import train_test_split\n",
    "from sklearn.externals.six import StringIO  \n",
    "from IPython.display import Image  \n",
    "\n",
    "from sklearn.linear_model import LogisticRegression\n",
    "from sklearn.tree import DecisionTreeClassifier\n",
    "from sklearn.ensemble import RandomForestClassifier\n",
    "from sklearn.neighbors import KNeighborsClassifier\n",
    "from sklearn.svm import SVC\n",
    "from sklearn.naive_bayes import GaussianNB\n",
    "from sklearn.ensemble import GradientBoostingClassifier\n",
    "from sklearn.ensemble import AdaBoostClassifier\n",
    "from sklearn.ensemble import BaggingClassifier\n",
    "from sklearn.tree import export_graphviz\n",
    "\n",
    "import seaborn as sns\n",
    "import pandas as pd\n",
    "import seaborn as sns\n",
    "import matplotlib.pyplot as plt\n",
    "import numpy as np\n",
    "import pydot\n",
    "import scikitplot as skplt\n",
    "\n",
    "import warnings; warnings.simplefilter('ignore')\n",
    "%matplotlib inline\n",
    "\n",
    "bank_data = pd.read_csv('bank-additional-full.csv')"
   ]
  },
  {
   "cell_type": "code",
   "execution_count": 2,
   "metadata": {
    "collapsed": false
   },
   "outputs": [],
   "source": [
    "#Handling categorical variables\n",
    "categorical_features = ['job', 'marital', 'education', 'default', 'housing', 'loan', 'contact', 'month','day_of_week', 'poutcome', 'y']\n",
    "bank_data_tran = pd.get_dummies(bank_data, columns = categorical_features, drop_first=True)\n",
    "\n",
    "bank_data_tran.drop(['duration'], axis = 1, inplace = True)\n",
    "bank_data_tran.drop(['job_blue-collar', 'job_self-employed', 'job_services', 'job_unemployed', 'day_of_week_mon'], axis = 1, inplace = True)\n",
    "#because of the high correlation coefficient between euribor3m rate and nr. of employed, the latter is going to be dropped\n",
    "bank_data_tran.drop(['nr.employed'], axis = 1, inplace = True)\n",
    "\n",
    "#apllying the same logic, emp.var.rate is going to be dropped\n",
    "bank_data_tran.drop(['emp.var.rate'], axis = 1, inplace = True)"
   ]
  },
  {
   "cell_type": "code",
   "execution_count": 3,
   "metadata": {
    "collapsed": true
   },
   "outputs": [],
   "source": [
    "#Function for printing results\n",
    "def print_results(x_input, true_output, predicted_output, classifier):\n",
    "    precision, recall, thresholds = precision_recall_curve(true_output, classifier.predict_proba(x_input)[:,1])\n",
    "    area = auc(recall, precision)\n",
    "    print(\"\\nArea under precission-recall is:\", area)\n",
    "    \n",
    "    print(\"Validation set predictions: \\n\\n\" + classification_report(true_output,predicted_output))\n",
    "    print(\"\\n Confusion matrix:\\n \" , confusion_matrix(true_output, predicted_output))\n",
    "    print(\"\\n\")\n",
    "    print(\"True negatives:\", confusion_matrix(true_output, predicted_output)[0][0])\n",
    "    print(\"False positives:\", confusion_matrix(true_output, predicted_output)[0][1])\n",
    "    print(\"False negatives:\", confusion_matrix(true_output, predicted_output)[1][0])\n",
    "    print(\"True positives: \", confusion_matrix(true_output, predicted_output)[1][1])"
   ]
  },
  {
   "cell_type": "code",
   "execution_count": 4,
   "metadata": {
    "collapsed": false
   },
   "outputs": [],
   "source": [
    "#Data preprocessing and splitting and scaling\n",
    "msk = np.random.rand(len(bank_data_tran)) < 0.8\n",
    "\n",
    "train = bank_data_tran[msk]\n",
    "test = bank_data_tran[~msk]\n",
    "\n",
    "msk2 = np.random.rand(len(train)) < 0.8\n",
    "\n",
    "train2 = train[msk2]\n",
    "val = train[~msk2]\n",
    "\n",
    "\n",
    "x = bank_data_tran.iloc[:,bank_data_tran.columns != 'y_yes'].values\n",
    "y = bank_data_tran.iloc[:, -1].values"
   ]
  },
  {
   "cell_type": "code",
   "execution_count": 5,
   "metadata": {
    "collapsed": false
   },
   "outputs": [],
   "source": [
    "#Downsampled\n",
    "\n",
    "# Separate majority and minority classes\n",
    "df_majority = train2[train2.y_yes ==0]\n",
    "df_minority = train2[train2.y_yes ==1]"
   ]
  },
  {
   "cell_type": "code",
   "execution_count": 6,
   "metadata": {
    "collapsed": true
   },
   "outputs": [],
   "source": [
    "# Downsample majority class\n",
    "df_majority_downsampled = resample(df_majority, \n",
    "                                 replace=False,    # sample without replacement\n",
    "                                 n_samples=5000,     # to match minority class\n",
    "                                 random_state=123) # reproducible results"
   ]
  },
  {
   "cell_type": "code",
   "execution_count": 7,
   "metadata": {
    "collapsed": true
   },
   "outputs": [],
   "source": [
    "df_downsampled = pd.concat([df_majority_downsampled, df_minority])"
   ]
  },
  {
   "cell_type": "code",
   "execution_count": 8,
   "metadata": {
    "collapsed": false
   },
   "outputs": [
    {
     "data": {
      "text/plain": [
       "0    5000\n",
       "1    2949\n",
       "Name: y_yes, dtype: int64"
      ]
     },
     "execution_count": 8,
     "metadata": {},
     "output_type": "execute_result"
    }
   ],
   "source": [
    "df_downsampled.y_yes.value_counts()"
   ]
  },
  {
   "cell_type": "code",
   "execution_count": 9,
   "metadata": {
    "collapsed": false
   },
   "outputs": [],
   "source": [
    "#Data preprocessing and splitting \n",
    "x_down = df_downsampled.iloc[:,df_downsampled.columns != 'y_yes'].values\n",
    "y_down = df_downsampled.iloc[:, -1].values\n",
    "\n",
    "x_train = x_down\n",
    "y_train = y_down\n",
    "\n",
    "x_val = val.iloc[:, val.columns != 'y_yes'].values\n",
    "y_val = val.iloc[:, -1].values\n",
    "\n",
    "x_test = test.iloc[:, test.columns!='y_yes'].values\n",
    "y_test = test.iloc[:, -1].values"
   ]
  },
  {
   "cell_type": "markdown",
   "metadata": {},
   "source": [
    "# Decision tree\n",
    "   - <h4> Model training </h4>"
   ]
  },
  {
   "cell_type": "code",
   "execution_count": 65,
   "metadata": {
    "collapsed": false
   },
   "outputs": [
    {
     "name": "stdout",
     "output_type": "stream",
     "text": [
      "\n",
      "Area under precission-recall is: 0.3972913709330861\n",
      "Validation set predictions: \n",
      "\n",
      "             precision    recall  f1-score   support\n",
      "\n",
      "          0       0.93      0.75      0.83      5926\n",
      "          1       0.21      0.55      0.30       703\n",
      "\n",
      "avg / total       0.86      0.73      0.77      6629\n",
      "\n",
      "\n",
      " Confusion matrix:\n",
      "  [[4438 1488]\n",
      " [ 318  385]]\n",
      "\n",
      "\n",
      "True negatives: 4438\n",
      "False positives: 1488\n",
      "False negatives: 318\n",
      "True positives:  385\n"
     ]
    }
   ],
   "source": [
    "#Decision tree algorithm\n",
    "td_classifier = DecisionTreeClassifier(criterion='entropy', random_state = 0)\n",
    "td_classifier.fit(x_train, y_train)\n",
    "\n",
    "predictions_DT_val = td_classifier.predict(x_val)\n",
    "\n",
    "#Results \n",
    "print_results(x_val, y_val, predictions_DT_val, td_classifier)"
   ]
  },
  {
   "cell_type": "markdown",
   "metadata": {},
   "source": [
    "- <h4> Model testing </h4>"
   ]
  },
  {
   "cell_type": "code",
   "execution_count": 23,
   "metadata": {
    "collapsed": false
   },
   "outputs": [
    {
     "name": "stdout",
     "output_type": "stream",
     "text": [
      "\n",
      "Area under precission-recall is: 0.41209428261746445\n",
      "Validation set predictions: \n",
      "\n",
      "             precision    recall  f1-score   support\n",
      "\n",
      "          0       0.93      0.74      0.82      7322\n",
      "          1       0.21      0.56      0.31       929\n",
      "\n",
      "avg / total       0.85      0.72      0.77      8251\n",
      "\n",
      "\n",
      " Confusion matrix:\n",
      "  [[5410 1912]\n",
      " [ 408  521]]\n",
      "\n",
      "\n",
      "True negatives: 5410\n",
      "False positives: 1912\n",
      "False negatives: 408\n",
      "True positives:  521\n"
     ]
    }
   ],
   "source": [
    "predictions_DT_test = td_classifier.predict(x_test)\n",
    "print_results(x_test, y_test, predictions_DT_test, td_classifier)"
   ]
  },
  {
   "cell_type": "raw",
   "metadata": {
    "collapsed": false
   },
   "source": [
    "from sklearn.externals.six import StringIO  \n",
    "from IPython.display import Image  \n",
    "from sklearn.tree import export_graphviz\n",
    "import pydotplus\n",
    "dot_data = StringIO()\n",
    "export_graphviz(td_classifier, out_file=dot_data,  \n",
    "                filled=True, rounded=True,\n",
    "                special_characters=True)\n",
    "graph = pydotplus.graph_from_dot_data(dot_data.getvalue())  \n",
    "Image(graph.create_png())"
   ]
  },
  {
   "cell_type": "markdown",
   "metadata": {},
   "source": [
    "# AdaBoost\n",
    "- <h4> Model training </h4>"
   ]
  },
  {
   "cell_type": "code",
   "execution_count": 11,
   "metadata": {
    "collapsed": false
   },
   "outputs": [
    {
     "name": "stdout",
     "output_type": "stream",
     "text": [
      "\n",
      "Area under precission-recall is: 0.4108815335797853\n",
      "Validation set predictions: \n",
      "\n",
      "             precision    recall  f1-score   support\n",
      "\n",
      "          0       0.93      0.84      0.88      5727\n",
      "          1       0.32      0.56      0.41       776\n",
      "\n",
      "avg / total       0.86      0.81      0.83      6503\n",
      "\n",
      "\n",
      " Confusion matrix:\n",
      "  [[4803  924]\n",
      " [ 340  436]]\n",
      "\n",
      "\n",
      "True negatives: 4803\n",
      "False positives: 924\n",
      "False negatives: 340\n",
      "True positives:  436\n"
     ]
    }
   ],
   "source": [
    "#Boosting - AdaBoost\n",
    "ada = AdaBoostClassifier(DecisionTreeClassifier(max_depth=20),\n",
    "                         algorithm = \"SAMME\",\n",
    "                         n_estimators=200)\n",
    "                         \n",
    "ada.fit(x_train, y_train)\n",
    "predictions_ada = ada.predict(x_val)\n",
    "\n",
    "print_results(x_val, y_val, predictions_ada, ada)"
   ]
  },
  {
   "cell_type": "markdown",
   "metadata": {},
   "source": [
    "- <h4> Model testing </h4>"
   ]
  },
  {
   "cell_type": "code",
   "execution_count": 33,
   "metadata": {
    "collapsed": false
   },
   "outputs": [
    {
     "name": "stdout",
     "output_type": "stream",
     "text": [
      "\n",
      "Area under precission-recall is: 0.11043810289833872\n",
      "Validation set predictions: \n",
      "\n",
      "             precision    recall  f1-score   support\n",
      "\n",
      "          0       0.84      0.09      0.17      7379\n",
      "          1       0.11      0.87      0.19       938\n",
      "\n",
      "avg / total       0.76      0.18      0.17      8317\n",
      "\n",
      "\n",
      " Confusion matrix:\n",
      "  [[ 680 6699]\n",
      " [ 125  813]]\n",
      "\n",
      "\n",
      "True negatives: 680\n",
      "False positives: 6699\n",
      "False negatives: 125\n",
      "True positives:  813\n"
     ]
    }
   ],
   "source": [
    "predictions_ada_test = ada.predict(x_test)\n",
    "print_results(x_test, y_test, predictions_ada_test, ada)"
   ]
  },
  {
   "cell_type": "markdown",
   "metadata": {},
   "source": [
    "# Gradient Boosting  Classifier\n",
    "- <h4> Model training </h4>"
   ]
  },
  {
   "cell_type": "code",
   "execution_count": 12,
   "metadata": {
    "collapsed": false
   },
   "outputs": [
    {
     "name": "stdout",
     "output_type": "stream",
     "text": [
      "\n",
      "Area under precission-recall is: 0.4961052116096427\n",
      "Validation set predictions: \n",
      "\n",
      "             precision    recall  f1-score   support\n",
      "\n",
      "          0       0.94      0.91      0.92      5727\n",
      "          1       0.46      0.57      0.51       776\n",
      "\n",
      "avg / total       0.88      0.87      0.88      6503\n",
      "\n",
      "\n",
      " Confusion matrix:\n",
      "  [[5209  518]\n",
      " [ 331  445]]\n",
      "\n",
      "\n",
      "True negatives: 5209\n",
      "False positives: 518\n",
      "False negatives: 331\n",
      "True positives:  445\n"
     ]
    }
   ],
   "source": [
    "#Gradient boosting\n",
    "gradientBoost = GradientBoostingClassifier(n_estimators=100, random_state=1)\n",
    "gradientBoost.fit(x_train, y_train)\n",
    "\n",
    "gradient_predictions = gradientBoost.predict(x_val)\n",
    "\n",
    "#Results\n",
    "print_results(x_val, y_val, gradient_predictions, gradientBoost)"
   ]
  },
  {
   "cell_type": "markdown",
   "metadata": {},
   "source": [
    "- <h4> Model testing </h4>"
   ]
  },
  {
   "cell_type": "code",
   "execution_count": 38,
   "metadata": {
    "collapsed": false
   },
   "outputs": [
    {
     "name": "stdout",
     "output_type": "stream",
     "text": [
      "\n",
      "Area under precission-recall is: 0.28162879856849043\n",
      "Validation set predictions: \n",
      "\n",
      "             precision    recall  f1-score   support\n",
      "\n",
      "          0       0.95      0.24      0.39      7379\n",
      "          1       0.13      0.91      0.23       938\n",
      "\n",
      "avg / total       0.86      0.32      0.37      8317\n",
      "\n",
      "\n",
      " Confusion matrix:\n",
      "  [[1802 5577]\n",
      " [  87  851]]\n",
      "\n",
      "\n",
      "True negatives: 1802\n",
      "False positives: 5577\n",
      "False negatives: 87\n",
      "True positives:  851\n"
     ]
    }
   ],
   "source": [
    "predictions_GradB_test = gradientBoost.predict(x_test)\n",
    "print_results(x_test, y_test, predictions_GradB_test, classifier=gradientBoost)"
   ]
  },
  {
   "cell_type": "markdown",
   "metadata": {},
   "source": [
    "# Decision Tree Bagging\n",
    "- <h4> Model training </h4>"
   ]
  },
  {
   "cell_type": "code",
   "execution_count": 13,
   "metadata": {
    "collapsed": false
   },
   "outputs": [
    {
     "name": "stdout",
     "output_type": "stream",
     "text": [
      "\n",
      "Area under precission-recall is: 0.4720703753295393\n",
      "Validation set predictions: \n",
      "\n",
      "             precision    recall  f1-score   support\n",
      "\n",
      "          0       0.94      0.89      0.91      5727\n",
      "          1       0.41      0.58      0.48       776\n",
      "\n",
      "avg / total       0.88      0.85      0.86      6503\n",
      "\n",
      "\n",
      " Confusion matrix:\n",
      "  [[5079  648]\n",
      " [ 323  453]]\n",
      "\n",
      "\n",
      "True negatives: 5079\n",
      "False positives: 648\n",
      "False negatives: 323\n",
      "True positives:  453\n"
     ]
    }
   ],
   "source": [
    "#Bagging with decission trees\n",
    "bagg = BaggingClassifier(base_estimator=DecisionTreeClassifier(max_depth=20), n_estimators=100, random_state=7)\n",
    "bagg.fit(x_train, y_train)\n",
    "\n",
    "predictions_bag = bagg.predict(x_val)\n",
    "\n",
    "#Results\n",
    "print_results(x_val, y_val, predictions_bag, bagg)"
   ]
  },
  {
   "cell_type": "markdown",
   "metadata": {},
   "source": [
    "- <h4> Model testing </h4>"
   ]
  },
  {
   "cell_type": "code",
   "execution_count": 39,
   "metadata": {
    "collapsed": false
   },
   "outputs": [
    {
     "name": "stdout",
     "output_type": "stream",
     "text": [
      "\n",
      "Area under precission-recall is: 0.1533259650779794\n",
      "Validation set predictions: \n",
      "\n",
      "             precision    recall  f1-score   support\n",
      "\n",
      "          0       0.92      0.61      0.73      7379\n",
      "          1       0.16      0.59      0.25       938\n",
      "\n",
      "avg / total       0.84      0.61      0.68      8317\n",
      "\n",
      "\n",
      " Confusion matrix:\n",
      "  [[4480 2899]\n",
      " [ 382  556]]\n",
      "\n",
      "\n",
      "True negatives: 4480\n",
      "False positives: 2899\n",
      "False negatives: 382\n",
      "True positives:  556\n"
     ]
    }
   ],
   "source": [
    "predictions_bagg_test = bagg.predict(x_test)\n",
    "print_results(x_test, y_test, predictions_bagg_test, bagg)"
   ]
  },
  {
   "cell_type": "markdown",
   "metadata": {},
   "source": [
    "# Random Forest Classifier\n",
    "- <h4> Model training </h4>"
   ]
  },
  {
   "cell_type": "code",
   "execution_count": 66,
   "metadata": {
    "collapsed": false
   },
   "outputs": [
    {
     "name": "stdout",
     "output_type": "stream",
     "text": [
      "\n",
      "Area under precission-recall is: 0.38590103097403483\n",
      "Validation set predictions: \n",
      "\n",
      "             precision    recall  f1-score   support\n",
      "\n",
      "          0       0.95      0.85      0.89      5926\n",
      "          1       0.31      0.59      0.41       703\n",
      "\n",
      "avg / total       0.88      0.82      0.84      6629\n",
      "\n",
      "\n",
      " Confusion matrix:\n",
      "  [[5023  903]\n",
      " [ 291  412]]\n",
      "\n",
      "\n",
      "True negatives: 5023\n",
      "False positives: 903\n",
      "False negatives: 291\n",
      "True positives:  412\n"
     ]
    }
   ],
   "source": [
    "#Random Forest Classification Algorithm\n",
    "\n",
    "# Fitting Random Forest Classification to the Training set\n",
    "rf_classifier = RandomForestClassifier(n_estimators = 1000, criterion = 'entropy', random_state = 0)\n",
    "rf_classifier.fit(x_train, y_train)\n",
    "\n",
    "# Predicting the Test set results\n",
    "predictions_RF_val = rf_classifier.predict(x_val)\n",
    "\n",
    "# Making the Confusion Matrix\n",
    "#from sklearn.metrics import confusion_matrix\n",
    "#cm = confusion_matrix(y_val, predictions_RF)\n",
    "\n",
    "#Results\n",
    "print_results(x_val, y_val, predictions_RF_val, rf_classifier)"
   ]
  },
  {
   "cell_type": "markdown",
   "metadata": {},
   "source": [
    "- <h4> Model testing </h4>"
   ]
  },
  {
   "cell_type": "code",
   "execution_count": 35,
   "metadata": {
    "collapsed": false
   },
   "outputs": [
    {
     "name": "stdout",
     "output_type": "stream",
     "text": [
      "\n",
      "Area under precission-recall is: 0.40510349441411486\n",
      "Validation set predictions: \n",
      "\n",
      "             precision    recall  f1-score   support\n",
      "\n",
      "          0       0.94      0.88      0.91      7379\n",
      "          1       0.38      0.57      0.46       938\n",
      "\n",
      "avg / total       0.88      0.85      0.86      8317\n",
      "\n",
      "\n",
      " Confusion matrix:\n",
      "  [[6493  886]\n",
      " [ 400  538]]\n",
      "\n",
      "\n",
      "True negatives: 6493\n",
      "False positives: 886\n",
      "False negatives: 400\n",
      "True positives:  538\n"
     ]
    }
   ],
   "source": [
    "predictions_RF_test = rf_classifier.predict(x_test)\n",
    "print_results(x_test, y_test, predictions_RF_test, rf_classifier)\n"
   ]
  },
  {
   "cell_type": "code",
   "execution_count": 10,
   "metadata": {
    "collapsed": false
   },
   "outputs": [],
   "source": [
    "# Feature Scaling, because it isn't needed for Random Forest and Decision trees\n",
    "sc = StandardScaler()\n",
    "x_train = sc.fit_transform(x_train)\n",
    "x_test = sc.transform(x_test)\n",
    "x_val = sc.transform(x_val)"
   ]
  },
  {
   "cell_type": "markdown",
   "metadata": {},
   "source": [
    "# Logistic Regression Classifier\n",
    "- <h4> Model training "
   ]
  },
  {
   "cell_type": "code",
   "execution_count": 11,
   "metadata": {
    "collapsed": false
   },
   "outputs": [
    {
     "name": "stdout",
     "output_type": "stream",
     "text": [
      "\n",
      "Area under precission-recall is: 0.45131939695851836\n",
      "Validation set predictions: \n",
      "\n",
      "             precision    recall  f1-score   support\n",
      "\n",
      "          0       0.95      0.85      0.89      5911\n",
      "          1       0.34      0.63      0.45       758\n",
      "\n",
      "avg / total       0.88      0.82      0.84      6669\n",
      "\n",
      "\n",
      " Confusion matrix:\n",
      "  [[5007  904]\n",
      " [ 282  476]]\n",
      "\n",
      "\n",
      "True negatives: 5007\n",
      "False positives: 904\n",
      "False negatives: 282\n",
      "True positives:  476\n"
     ]
    }
   ],
   "source": [
    "#Logistic Regression Algorithm\n",
    "logdown = LogisticRegression(class_weight = 'balanced')\n",
    "logdown.fit(x_train, y_train)\n",
    "predictions_LR = logdown.predict(x_val)\n",
    "\n",
    "#Results\n",
    "print_results(x_val, y_val, predictions_LR, logdown)"
   ]
  },
  {
   "cell_type": "code",
   "execution_count": 12,
   "metadata": {
    "collapsed": false
   },
   "outputs": [
    {
     "data": {
      "image/png": "[encoded data removed]",
      "text/plain": [
       "<matplotlib.figure.Figure at 0x1a7b2be1eb8>"
      ]
     },
     "metadata": {},
     "output_type": "display_data"
    }
   ],
   "source": [
    "y_true = y_val\n",
    "y_probas = logdown.predict_proba(x_val)\n",
    "skplt.metrics.plot_roc_curve(y_true, y_probas)\n",
    "plt.show()"
   ]
  },
  {
   "cell_type": "code",
   "execution_count": 15,
   "metadata": {
    "collapsed": false
   },
   "outputs": [
    {
     "data": {
      "text/plain": [
       "0.7375165660909471"
      ]
     },
     "execution_count": 15,
     "metadata": {},
     "output_type": "execute_result"
    }
   ],
   "source": [
    "roc_auc_score(y_val, predictions_LR, average='macro', sample_weight=None)"
   ]
  },
  {
   "cell_type": "markdown",
   "metadata": {},
   "source": [
    "- <h4> Model testing\n"
   ]
  },
  {
   "cell_type": "code",
   "execution_count": null,
   "metadata": {
    "collapsed": false
   },
   "outputs": [],
   "source": [
    "predictions_LR_test = logdown.predict(x_test)\n",
    "print_results(x_test, y_test, predictions_LR_test, logdown)"
   ]
  },
  {
   "cell_type": "markdown",
   "metadata": {},
   "source": [
    "# Support Vector Machines Classifier\n",
    "- <h4> Model training "
   ]
  },
  {
   "cell_type": "code",
   "execution_count": 17,
   "metadata": {
    "collapsed": false
   },
   "outputs": [
    {
     "name": "stdout",
     "output_type": "stream",
     "text": [
      "\n",
      "Area under precission-recall is: 0.39719496556553907\n",
      "Validation set predictions: \n",
      "\n",
      "             precision    recall  f1-score   support\n",
      "\n",
      "          0       0.94      0.90      0.92      5911\n",
      "          1       0.44      0.58      0.50       758\n",
      "\n",
      "avg / total       0.89      0.87      0.87      6669\n",
      "\n",
      "\n",
      " Confusion matrix:\n",
      "  [[5340  571]\n",
      " [ 318  440]]\n",
      "\n",
      "\n",
      "True negatives: 5340\n",
      "False positives: 571\n",
      "False negatives: 318\n",
      "True positives:  440\n"
     ]
    },
    {
     "data": {
      "text/plain": [
       "0.7419376869474157"
      ]
     },
     "execution_count": 17,
     "metadata": {},
     "output_type": "execute_result"
    }
   ],
   "source": [
    "#SVM algorithm\n",
    "\n",
    "svm_classifier = SVC(kernel = 'rbf', random_state = 0, probability = True)\n",
    "svm_classifier.fit(x_train, y_train)\n",
    "predictions_SVC_val = svm_classifier.predict(x_val)\n",
    "\n",
    "#Results\n",
    "print_results(x_val, y_val, predictions_SVC_val, svm_classifier)\n",
    "roc_auc_score(y_val, predictions_SVC_val, average='macro', sample_weight=None)"
   ]
  },
  {
   "cell_type": "code",
   "execution_count": 18,
   "metadata": {
    "collapsed": false
   },
   "outputs": [
    {
     "data": {
      "image/png": "[encoded data removed]",
      "text/plain": [
       "<matplotlib.figure.Figure at 0x1a7b51cde80>"
      ]
     },
     "metadata": {},
     "output_type": "display_data"
    }
   ],
   "source": [
    "y_true = y_val\n",
    "y_probas = svm_classifier.predict_proba(x_val)\n",
    "skplt.metrics.plot_roc_curve(y_true, y_probas)\n",
    "plt.show()"
   ]
  },
  {
   "cell_type": "markdown",
   "metadata": {},
   "source": [
    "- <h4> Model testing"
   ]
  },
  {
   "cell_type": "code",
   "execution_count": 46,
   "metadata": {
    "collapsed": false
   },
   "outputs": [
    {
     "name": "stdout",
     "output_type": "stream",
     "text": [
      "\n",
      "Area under precission-recall is: 0.3421175975661513\n",
      "Validation set predictions: \n",
      "\n",
      "             precision    recall  f1-score   support\n",
      "\n",
      "          0       0.94      0.90      0.92      7350\n",
      "          1       0.40      0.53      0.46       922\n",
      "\n",
      "avg / total       0.88      0.86      0.87      8272\n",
      "\n",
      "\n",
      " Confusion matrix:\n",
      "  [[6626  724]\n",
      " [ 430  492]]\n",
      "\n",
      "\n",
      "True negatives: 6626\n",
      "False positives: 724\n",
      "False negatives: 430\n",
      "True positives:  492\n"
     ]
    }
   ],
   "source": [
    "predictions_SVM_test = svm_classifier.predict(x_test)\n",
    "\n",
    "#Results\n",
    "print_results(x_test, y_test, predictions_SVM_test, svm_classifier)"
   ]
  },
  {
   "cell_type": "markdown",
   "metadata": {},
   "source": [
    "# K-Nearest Neighbours Classifier\n",
    "- <h4> Model training"
   ]
  },
  {
   "cell_type": "code",
   "execution_count": 22,
   "metadata": {
    "collapsed": false
   },
   "outputs": [
    {
     "data": {
      "text/plain": [
       "[<matplotlib.lines.Line2D at 0x1b43306a908>]"
      ]
     },
     "execution_count": 22,
     "metadata": {},
     "output_type": "execute_result"
    },
    {
     "data": {
      "image/png": "[encoded data removed]",
      "text/plain": [
       "<matplotlib.figure.Figure at 0x1b433057e80>"
      ]
     },
     "metadata": {},
     "output_type": "display_data"
    }
   ],
   "source": [
    "#KNN Algorithm\n",
    "#adjusting parameters for KNN\n",
    "error_rate = []\n",
    "\n",
    "# Will take some time\n",
    "for i in range(1,50):  \n",
    "    knn_classifier = KNeighborsClassifier(n_neighbors=i, metric = 'minkowski', p = 2)\n",
    "    knn_classifier.fit(x_train, y_train)\n",
    "    pred_i = knn_classifier.predict(x_val)\n",
    "    error_rate.append(np.mean(pred_i != y_val))\n",
    "    \n",
    "plt.xlabel(\"Number of neighbours\")\n",
    "plt.ylabel(\"Error rate\")\n",
    "plt.plot(error_rate, \"r\")\n",
    "\n",
    "#predictions_KNN_test = knn_classifier.predict(x_test)\n",
    "#print(\"Test set predictions:\\n\\n\" + classification_report(y_test, predictions_KNN_test))"
   ]
  },
  {
   "cell_type": "code",
   "execution_count": 28,
   "metadata": {
    "collapsed": false
   },
   "outputs": [
    {
     "data": {
      "text/plain": [
       "45"
      ]
     },
     "execution_count": 28,
     "metadata": {},
     "output_type": "execute_result"
    }
   ],
   "source": [
    "np.argmin(error_rate)"
   ]
  },
  {
   "cell_type": "code",
   "execution_count": 30,
   "metadata": {
    "collapsed": false
   },
   "outputs": [
    {
     "name": "stdout",
     "output_type": "stream",
     "text": [
      "\n",
      "Area under precission-recall is: 0.44392430145609363\n",
      "Validation set predictions: \n",
      "\n",
      "             precision    recall  f1-score   support\n",
      "\n",
      "          0       0.93      0.93      0.93      5727\n",
      "          1       0.47      0.47      0.47       776\n",
      "\n",
      "avg / total       0.87      0.87      0.87      6503\n",
      "\n",
      "\n",
      " Confusion matrix:\n",
      "  [[5318  409]\n",
      " [ 414  362]]\n",
      "\n",
      "\n",
      "True negatives: 5318\n",
      "False positives: 409\n",
      "False negatives: 414\n",
      "True positives:  362\n"
     ]
    }
   ],
   "source": [
    "#From the plot above, we can see that the error_rate is smallest when number of neighbours is 17, so we take that K value\n",
    "knn_classifier = KNeighborsClassifier(n_neighbors=45, metric = 'minkowski', p = 2)\n",
    "knn_classifier.fit(x_train, y_train)\n",
    "pred_i = knn_classifier.predict(x_val)\n",
    "\n",
    "#Results\n",
    "print_results(x_val, y_val, pred_i, knn_classifier)"
   ]
  },
  {
   "cell_type": "markdown",
   "metadata": {},
   "source": [
    "- <h4> Model testing"
   ]
  },
  {
   "cell_type": "code",
   "execution_count": 44,
   "metadata": {
    "collapsed": false
   },
   "outputs": [
    {
     "name": "stdout",
     "output_type": "stream",
     "text": [
      "\n",
      "Area under precission-recall is: 0.3696897362459471\n",
      "Validation set predictions: \n",
      "\n",
      "             precision    recall  f1-score   support\n",
      "\n",
      "          0       0.93      0.93      0.93      7379\n",
      "          1       0.43      0.43      0.43       938\n",
      "\n",
      "avg / total       0.87      0.87      0.87      8317\n",
      "\n",
      "\n",
      " Confusion matrix:\n",
      "  [[6835  544]\n",
      " [ 535  403]]\n",
      "\n",
      "\n",
      "True negatives: 6835\n",
      "False positives: 544\n",
      "False negatives: 535\n",
      "True positives:  403\n"
     ]
    }
   ],
   "source": [
    "predictions_KNN_test = knn_classifier.predict(x_test)\n",
    "print_results(x_test, y_test, predictions_KNN_test, knn_classifier)"
   ]
  },
  {
   "cell_type": "markdown",
   "metadata": {},
   "source": [
    "# Gaussian Naive Bayes Classifier\n",
    "- <h4> Model training\n"
   ]
  },
  {
   "cell_type": "code",
   "execution_count": 45,
   "metadata": {
    "collapsed": false
   },
   "outputs": [
    {
     "name": "stdout",
     "output_type": "stream",
     "text": [
      "\n",
      "Area under precission-recall is: 0.44785155274595245\n",
      "Validation set predictions: \n",
      "\n",
      "             precision    recall  f1-score   support\n",
      "\n",
      "          0       0.95      0.55      0.69      5727\n",
      "          1       0.19      0.78      0.30       776\n",
      "\n",
      "avg / total       0.86      0.57      0.65      6503\n",
      "\n",
      "\n",
      " Confusion matrix:\n",
      "  [[3129 2598]\n",
      " [ 169  607]]\n",
      "\n",
      "\n",
      "True negatives: 3129\n",
      "False positives: 2598\n",
      "False negatives: 169\n",
      "True positives:  607\n"
     ]
    }
   ],
   "source": [
    "# Gaussian Naive Bayes\n",
    "gaussian_classifier = GaussianNB()\n",
    "gaussian_classifier.fit(x_train, y_train)\n",
    "#print(gaussian_classifier)\n",
    "# make predictions\n",
    "predicted = gaussian_classifier.predict(x_val)\n",
    "# summarize the fit of the model\n",
    "\n",
    "print_results(x_val, y_val, predicted, gaussian_classifier)"
   ]
  },
  {
   "cell_type": "code",
   "execution_count": null,
   "metadata": {
    "collapsed": true
   },
   "outputs": [],
   "source": []
  },
  {
   "cell_type": "code",
   "execution_count": null,
   "metadata": {
    "collapsed": true
   },
   "outputs": [],
   "source": []
  }
 ],
 "metadata": {
  "anaconda-cloud": {},
  "kernelspec": {
   "display_name": "Python [conda root]",
   "language": "python",
   "name": "conda-root-py"
  },
  "language_info": {
   "codemirror_mode": {
    "name": "ipython",
    "version": 3
   },
   "file_extension": ".py",
   "mimetype": "text/x-python",
   "name": "python",
   "nbconvert_exporter": "python",
   "pygments_lexer": "ipython3",
   "version": "3.5.2"
  }
 },
 "nbformat": 4,
 "nbformat_minor": 1
}
