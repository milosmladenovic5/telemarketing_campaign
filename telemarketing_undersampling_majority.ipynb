{
 "cells": [
  {
   "cell_type": "code",
   "execution_count": 4,
   "metadata": {
    "collapsed": false
   },
   "outputs": [],
   "source": [
    "from sklearn.utils import resample\n",
    "from sklearn.preprocessing import StandardScaler\n",
    "from imblearn.over_sampling import SMOTE\n",
    "from sklearn.metrics import classification_report\n",
    "from sklearn.cross_validation import train_test_split\n",
    "from sklearn.metrics import confusion_matrix, roc_curve, roc_auc_score\n",
    "from sklearn.metrics import average_precision_score\n",
    "from sklearn.metrics import precision_recall_curve\n",
    "from sklearn.metrics import auc\n",
    "\n",
    "from sklearn.linear_model import LogisticRegression\n",
    "from sklearn.tree import DecisionTreeClassifier\n",
    "from sklearn.ensemble import RandomForestClassifier\n",
    "from sklearn.neighbors import KNeighborsClassifier\n",
    "from sklearn.svm import SVC\n",
    "\n",
    "from sklearn.metrics import confusion_matrix\n",
    "\n",
    "import seaborn as sns\n",
    "import pandas as pd\n",
    "import seaborn as sns\n",
    "import matplotlib.pyplot as plt\n",
    "import numpy as np\n",
    "\n",
    "\n",
    "%matplotlib inline\n",
    "\n",
    "bank_data = pd.read_csv('bank-additional-full.csv')"
   ]
  },
  {
   "cell_type": "code",
   "execution_count": 21,
   "metadata": {
    "collapsed": false
   },
   "outputs": [],
   "source": [
    "#Handling categorical variables\n",
    "categorical_features = ['job', 'marital', 'education', 'default', 'housing', 'loan', 'contact', 'month','day_of_week', 'poutcome', 'y']\n",
    "bank_data_tran = pd.get_dummies(bank_data, columns = categorical_features, drop_first=True)\n",
    "\n",
    "#because of the high correlation coefficient between euribor3m rate and nr. of employed, the latter is going to be dropped\n",
    "bank_data_tran.drop(['nr.employed'], axis = 1, inplace = True)\n",
    "\n",
    "#apllying the same logic, emp.var.rate is going to be dropped\n",
    "bank_data_tran.drop(['emp.var.rate'], axis = 1, inplace = True)"
   ]
  },
  {
   "cell_type": "code",
   "execution_count": 22,
   "metadata": {
    "collapsed": false
   },
   "outputs": [],
   "source": [
    "#Data preprocessing and splitting and scaling\n",
    "msk = np.random.rand(len(bank_data_tran)) < 0.8\n",
    "\n",
    "train = bank_data_tran[msk]\n",
    "test = bank_data_tran[~msk]\n",
    "\n",
    "msk2 = np.random.rand(len(train)) < 0.8\n",
    "\n",
    "train2 = train[msk2]\n",
    "val = train[~msk2]\n",
    "\n",
    "\n",
    "x = bank_data_tran.iloc[:,bank_data_tran.columns != 'y_yes'].values\n",
    "y = bank_data_tran.iloc[:, -1].values"
   ]
  },
  {
   "cell_type": "code",
   "execution_count": 23,
   "metadata": {
    "collapsed": false
   },
   "outputs": [],
   "source": [
    "#Downsampled\n",
    "\n",
    "# Separate majority and minority classes\n",
    "df_majority = train2[train2.y_yes ==0]\n",
    "df_minority = train2[train2.y_yes ==1]"
   ]
  },
  {
   "cell_type": "code",
   "execution_count": 43,
   "metadata": {
    "collapsed": true
   },
   "outputs": [],
   "source": [
    "# Downsample majority class\n",
    "df_majority_downsampled = resample(df_majority, \n",
    "                                 replace=False,    # sample without replacement\n",
    "                                 n_samples=5000,     # to match minority class\n",
    "                                 random_state=123) # reproducible results"
   ]
  },
  {
   "cell_type": "code",
   "execution_count": 44,
   "metadata": {
    "collapsed": true
   },
   "outputs": [],
   "source": [
    "df_downsampled = pd.concat([df_majority_downsampled, df_minority])"
   ]
  },
  {
   "cell_type": "code",
   "execution_count": 45,
   "metadata": {
    "collapsed": false
   },
   "outputs": [
    {
     "data": {
      "text/plain": [
       "0    5000\n",
       "1    2943\n",
       "Name: y_yes, dtype: int64"
      ]
     },
     "execution_count": 45,
     "metadata": {},
     "output_type": "execute_result"
    }
   ],
   "source": [
    "df_downsampled.y_yes.value_counts()"
   ]
  },
  {
   "cell_type": "code",
   "execution_count": 46,
   "metadata": {
    "collapsed": false
   },
   "outputs": [],
   "source": [
    "#Data preprocessing and splitting \n",
    "x_down = df_downsampled.iloc[:,df_downsampled.columns != 'y_yes'].values\n",
    "y_down = df_downsampled.iloc[:, -1].values\n",
    "\n",
    "x_train = x_down\n",
    "y_train = y_down\n",
    "\n",
    "x_val = val.iloc[:, val.columns != 'y_yes'].values\n",
    "y_val = val.iloc[:, -1].values\n",
    "\n",
    "x_test = test.iloc[:, test.columns!='y_yes'].values\n",
    "y_test = test.iloc[:, -1].values"
   ]
  },
  {
   "cell_type": "code",
   "execution_count": 47,
   "metadata": {
    "collapsed": false
   },
   "outputs": [
    {
     "name": "stdout",
     "output_type": "stream",
     "text": [
      "Validation set predictions: \n",
      "\n",
      "             precision    recall  f1-score   support\n",
      "\n",
      "          0       0.97      0.87      0.92      5933\n",
      "          1       0.45      0.82      0.58       768\n",
      "\n",
      "avg / total       0.91      0.86      0.88      6701\n",
      "\n",
      "\n",
      "Area under precission-recall is: 0.643383156907\n"
     ]
    }
   ],
   "source": [
    "#Decision tree algorithm\n",
    "\n",
    "td_classifier = DecisionTreeClassifier(criterion='entropy', random_state = 0)\n",
    "td_classifier.fit(x_train, y_train)\n",
    "\n",
    "predictions_DT_val = td_classifier.predict(x_val)\n",
    "print(\"Validation set predictions: \\n\\n\" + classification_report(y_val,predictions_DT_val))\n",
    "\n",
    "precision, recall, thresholds = precision_recall_curve(y_val, td_classifier.predict_proba(x_val)[:,1])\n",
    "area = auc(recall, precision)\n",
    "print(\"\\nArea under precission-recall is:\", area)\n"
   ]
  },
  {
   "cell_type": "code",
   "execution_count": 48,
   "metadata": {
    "collapsed": false
   },
   "outputs": [
    {
     "name": "stdout",
     "output_type": "stream",
     "text": [
      "Validation set predictions: \n",
      "\n",
      "             precision    recall  f1-score   support\n",
      "\n",
      "          0       0.98      0.88      0.93      5933\n",
      "          1       0.48      0.88      0.62       768\n",
      "\n",
      "avg / total       0.93      0.88      0.89      6701\n",
      "\n",
      "Score 0.879947060755\n",
      "\n",
      "Area under precission-recall is: 0.657160320672\n",
      "Average precision-recall score: 0.44\n"
     ]
    }
   ],
   "source": [
    "#Random Forest Classification Algorithm\n",
    "\n",
    "# Fitting Random Forest Classification to the Training set\n",
    "classifier = RandomForestClassifier(n_estimators = 1000, criterion = 'entropy', random_state = 0)\n",
    "classifier.fit(x_train, y_train)\n",
    "\n",
    "# Predicting the Test set results\n",
    "predictions_RF_val = classifier.predict(x_val)\n",
    "\n",
    "# Making the Confusion Matrix\n",
    "#from sklearn.metrics import confusion_matrix\n",
    "#cm = confusion_matrix(y_val, predictions_RF)\n",
    "\n",
    "print(\"Validation set predictions: \\n\\n\" + classification_report(y_val,predictions_RF_val))\n",
    "\n",
    "#predictions_RF_test = classifier.predict(x_test)\n",
    "\n",
    "#print(\"Test predictions:\\n\\n \" + classification_report(y_test, predictions_RF_test))\n",
    "\n",
    "print(\"Score\", roc_auc_score(y_val, predictions_RF_val))\n",
    "\n",
    "precision, recall, thresholds = precision_recall_curve(y_val, classifier.predict_proba(x_val)[:,1])\n",
    "area = auc(recall, precision)\n",
    "print(\"\\nArea under precission-recall is:\", area)\n",
    "\n",
    "average_precision = average_precision_score(y_val, predictions_RF_val)\n",
    "print('Average precision-recall score: {0:0.2f}'.format(\n",
    "      average_precision))\n"
   ]
  },
  {
   "cell_type": "code",
   "execution_count": 29,
   "metadata": {
    "collapsed": false
   },
   "outputs": [],
   "source": [
    "# Feature Scaling, because it isn't needed for Random Forest and Decision treefa\n",
    "sc = StandardScaler()\n",
    "x_train = sc.fit_transform(x_train)\n",
    "x_test = sc.transform(x_test)\n",
    "x_val = sc.transform(x_val)"
   ]
  },
  {
   "cell_type": "code",
   "execution_count": 42,
   "metadata": {
    "collapsed": false
   },
   "outputs": [
    {
     "name": "stdout",
     "output_type": "stream",
     "text": [
      "             precision    recall  f1-score   support\n",
      "\n",
      "          0       0.98      0.86      0.92      5973\n",
      "          1       0.43      0.88      0.58       728\n",
      "\n",
      "avg / total       0.92      0.86      0.88      6701\n",
      "\n",
      "[[5129  844]\n",
      " [  84  644]]\n",
      "Average precision-recall score: 0.40\n",
      "\n",
      "Area under precission-recall is: 0.589709792796\n"
     ]
    },
    {
     "data": {
      "text/plain": [
       "\"##Computing false and true positive rates\\nfpr, tpr,_=roc_curve(predictions_LR,y_val,drop_intermediate=False)\\n\\n\\n\\nimport matplotlib.pyplot as plt\\nplt.figure()\\n##Adding the ROC\\nplt.plot(fpr, tpr, color='red',\\n lw=2, label='ROC curve')\\n##Random FPR and TPR\\nplt.plot([0, 1], [0, 1], color='blue', lw=2, linestyle='--')\\n##Title and label\\nplt.xlabel('FPR')\\nplt.ylabel('TPR')\\nplt.title('ROC curve')\\nplt.show() \\n\""
      ]
     },
     "execution_count": 42,
     "metadata": {},
     "output_type": "execute_result"
    }
   ],
   "source": [
    "#Logistic Regression Algorithm\n",
    "logdown = LogisticRegression(class_weight = 'balanced')\n",
    "logdown.fit(x_train, y_train)\n",
    "predictions_LR = logdown.predict(x_val)\n",
    "\n",
    "print(classification_report(y_val,predictions_LR))\n",
    "\n",
    "# Making the Confusion Matrix\n",
    "from sklearn.metrics import confusion_matrix\n",
    "cm = confusion_matrix(y_val, predictions_LR)\n",
    "print(cm)\n",
    "\n",
    "average_precision = average_precision_score(y_val, predictions_LR)\n",
    "print('Average precision-recall score: {0:0.2f}'.format(\n",
    "      average_precision))\n",
    "\n",
    "precision, recall, thresholds = precision_recall_curve(y_val, logdown.predict_proba(x_val)[:,1])\n",
    "area = auc(recall, precision)\n",
    "print(\"\\nArea under precission-recall is:\", area)\n",
    "\n",
    "\n",
    "\"\"\"##Computing false and true positive rates\n",
    "fpr, tpr,_=roc_curve(predictions_LR,y_val,drop_intermediate=False)\n",
    "\n",
    "import matplotlib.pyplot as plt\n",
    "plt.figure()\n",
    "##Adding the ROC\n",
    "plt.plot(fpr, tpr, color='red',\n",
    " lw=2, label='ROC curve')\n",
    "##Random FPR and TPR\n",
    "plt.plot([0, 1], [0, 1], color='blue', lw=2, linestyle='--')\n",
    "##Title and label\n",
    "plt.xlabel('FPR')\n",
    "plt.ylabel('TPR')\n",
    "plt.title('ROC curve')\n",
    "plt.show() \n",
    "\"\"\""
   ]
  },
  {
   "cell_type": "code",
   "execution_count": 31,
   "metadata": {
    "collapsed": false
   },
   "outputs": [
    {
     "data": {
      "text/plain": [
       "<matplotlib.text.Text at 0x1efe9f2da58>"
      ]
     },
     "execution_count": 31,
     "metadata": {},
     "output_type": "execute_result"
    },
    {
     "data": {
      "image/png": "[encoded data removed]",
      "text/plain": [
       "<matplotlib.figure.Figure at 0x1efe9f265c0>"
      ]
     },
     "metadata": {},
     "output_type": "display_data"
    }
   ],
   "source": [
    "y_pred_prob = logdown.predict_proba(x_val)[:, 1]\n",
    "\n",
    "plt.rcParams['font.size'] = 14\n",
    "plt.hist(y_pred_prob, bins = 8)\n",
    "plt.xlim(0,1)\n",
    "plt.title(\"Historgram of predicted probabilities\")\n",
    "plt.xlabel(\"Predicted probability of telemarketing\")\n",
    "plt.ylabel(\"Frequency\")"
   ]
  },
  {
   "cell_type": "code",
   "execution_count": 40,
   "metadata": {
    "collapsed": false,
    "scrolled": false
   },
   "outputs": [
    {
     "name": "stdout",
     "output_type": "stream",
     "text": [
      "[[3544 2429]\n",
      " [   5  723]]\n",
      "             precision    recall  f1-score   support\n",
      "\n",
      "          0       1.00      0.59      0.74      5973\n",
      "          1       0.23      0.99      0.37       728\n",
      "\n",
      "avg / total       0.92      0.64      0.70      6701\n",
      "\n",
      "Score 0.793234274933\n",
      "Average precision-recall score: 0.23\n",
      "\n",
      "Area under precission-recall is: 0.63925180643\n"
     ]
    },
    {
     "data": {
      "text/plain": [
       "\"##Computing false and true positive rates\\nfpr, tpr,_=roc_curve(y_val,y_pred_class,drop_intermediate=False)\\n\\nimport matplotlib.pyplot as plt\\nplt.figure()\\n##Adding the ROC\\nplt.plot(fpr, tpr, color='red',\\n lw=2, label='ROC curve')\\n##Random FPR and TPR\\nplt.plot([0, 1], [0, 1], color='blue', lw=2, linestyle='--')\\n##Title and label\\nplt.xlabel('FPR')\\nplt.ylabel('TPR')\\nplt.title('ROC curve')\\nplt.show() \\n\\n\""
      ]
     },
     "execution_count": 40,
     "metadata": {},
     "output_type": "execute_result"
    }
   ],
   "source": [
    "#Since we can see highest number of instances have class probability around 0.25, we will set that as a limit, maybe 0.3\n",
    "y_pred_prob = y_pred_prob.reshape(1,-1)\n",
    "from sklearn.preprocessing import binarize\n",
    "y_pred_class = binarize(y_pred_prob, 0.1)[0]\n",
    "\n",
    "print (confusion_matrix(y_val, y_pred_class))\n",
    "print(classification_report(y_val,y_pred_class))\n",
    "\n",
    "print(\"Score\", roc_auc_score(y_val, y_pred_class))\n",
    "\n",
    "average_precision = average_precision_score(y_val, y_pred_class)\n",
    "print('Average precision-recall score: {0:0.2f}'.format(\n",
    "      average_precision))\n",
    "\n",
    "\n",
    "precision, recall, thresholds = precision_recall_curve(y_val, classifier.predict_proba(x_val)[:,1])\n",
    "area = auc(recall, precision)\n",
    "print(\"\\nArea under precission-recall is:\", area)\n",
    "\n",
    "\"\"\"##Computing false and true positive rates\n",
    "fpr, tpr,_=roc_curve(y_val,y_pred_class,drop_intermediate=False)\n",
    "\n",
    "import matplotlib.pyplot as plt\n",
    "plt.figure()\n",
    "##Adding the ROC\n",
    "plt.plot(fpr, tpr, color='red',\n",
    " lw=2, label='ROC curve')\n",
    "##Random FPR and TPR\n",
    "plt.plot([0, 1], [0, 1], color='blue', lw=2, linestyle='--')\n",
    "##Title and label\n",
    "plt.xlabel('FPR')\n",
    "plt.ylabel('TPR')\n",
    "plt.title('ROC curve')\n",
    "plt.show() \n",
    "\n",
    "\"\"\""
   ]
  },
  {
   "cell_type": "code",
   "execution_count": 61,
   "metadata": {
    "collapsed": false
   },
   "outputs": [
    {
     "name": "stdout",
     "output_type": "stream",
     "text": [
      "Validation set predictions: \n",
      "\n",
      "             precision    recall  f1-score   support\n",
      "\n",
      "          0       0.96      0.90      0.93      5785\n",
      "          1       0.48      0.70      0.57       727\n",
      "\n",
      "avg / total       0.91      0.88      0.89      6512\n",
      "\n",
      "\n",
      "Area under precission-recall is: 0.639173021226\n",
      "Score 0.801927029896\n"
     ]
    }
   ],
   "source": [
    "#SVM algorithm\n",
    "\n",
    "svm_classifier = SVC(kernel = 'linear', random_state = 0)\n",
    "svm_classifier.fit(x_train, y_train)\n",
    "\n",
    "predictions_SVC_val = svm_classifier.predict(x_val)\n",
    "print(\"Validation set predictions: \\n\\n\" + classification_report(y_val,predictions_SVC_val))\n",
    "\n",
    "precision, recall, thresholds = precision_recall_curve(y_val, classifier.predict_proba(x_val)[:,1])\n",
    "area = auc(recall, precision)\n",
    "print(\"\\nArea under precission-recall is:\", area)\n",
    "\n",
    "#predictions_SVC_test = svm_classifier.predict(x_test)\n",
    "#print(\"Test set predictions:\\n\\n\" + classification_report(y_test, predictions_SVC_test))\n",
    "\n",
    "print(\"Score\", roc_auc_score(y_val, predictions_SVC_val))\n"
   ]
  },
  {
   "cell_type": "code",
   "execution_count": 37,
   "metadata": {
    "collapsed": false
   },
   "outputs": [
    {
     "name": "stdout",
     "output_type": "stream",
     "text": [
      "Validation set predictions: \n",
      "\n",
      "             precision    recall  f1-score   support\n",
      "\n",
      "          0       0.94      0.89      0.91      5973\n",
      "          1       0.36      0.53      0.43       728\n",
      "\n",
      "avg / total       0.88      0.85      0.86      6701\n",
      "\n",
      "Average precision-recall score: 0.24\n",
      "\n",
      "Area under precission-recall is: 0.474107778096\n"
     ]
    }
   ],
   "source": [
    "#KNN Algorithm\n",
    "\n",
    "knn_classifier = KNeighborsClassifier(n_neighbors=2, metric = 'minkowski', p = 2)\n",
    "knn_classifier.fit(x_train, y_train)\n",
    "\n",
    "predictions_KNN_val = knn_classifier.predict(x_val)\n",
    "print(\"Validation set predictions: \\n\\n\" + classification_report(y_val,predictions_KNN_val))\n",
    "\n",
    "\n",
    "average_precision = average_precision_score(y_val, predictions_KNN_val)\n",
    "print('Average precision-recall score: {0:0.2f}'.format(\n",
    "      average_precision))\n",
    "\n",
    "precision, recall, thresholds = precision_recall_curve(y_val, knn_classifier.predict_proba(x_val)[:,1])\n",
    "area = auc(recall, precision)\n",
    "print(\"\\nArea under precission-recall is:\", area)\n",
    "\n",
    "#predictions_KNN_test = knn_classifier.predict(x_test)\n",
    "#print(\"Test set predictions:\\n\\n\" + classification_report(y_test, predictions_KNN_test))"
   ]
  },
  {
   "cell_type": "code",
   "execution_count": 62,
   "metadata": {
    "collapsed": false
   },
   "outputs": [
    {
     "name": "stdout",
     "output_type": "stream",
     "text": [
      "GaussianNB(priors=None)\n",
      "             precision    recall  f1-score   support\n",
      "\n",
      "          0       0.94      0.91      0.92      5785\n",
      "          1       0.40      0.51      0.45       727\n",
      "\n",
      "avg / total       0.88      0.86      0.87      6512\n",
      "\n",
      "[[5238  547]\n",
      " [ 358  369]]\n",
      "\n",
      "Area under precission-recall is: 0.470818272873\n"
     ]
    }
   ],
   "source": [
    "# Gaussian Naive Bayes\n",
    "from sklearn import metrics\n",
    "from sklearn.naive_bayes import GaussianNB\n",
    "# load the iris datasets\n",
    "# fit a Naive Bayes model to the data\n",
    "model = GaussianNB()\n",
    "model.fit(x_train, y_train)\n",
    "print(model)\n",
    "# make predictions\n",
    "predicted = model.predict(x_val)\n",
    "# summarize the fit of the model\n",
    "print(metrics.classification_report(y_val, predicted))\n",
    "print(metrics.confusion_matrix(y_val, predicted))\n",
    "\n",
    "\n",
    "\n",
    "precision, recall, thresholds = precision_recall_curve(y_val, model.predict_proba(x_val)[:,1])\n",
    "area = auc(recall, precision)\n",
    "print(\"\\nArea under precission-recall is:\", area)\n"
   ]
  },
  {
   "cell_type": "code",
   "execution_count": null,
   "metadata": {
    "collapsed": true
   },
   "outputs": [],
   "source": []
  },
  {
   "cell_type": "code",
   "execution_count": null,
   "metadata": {
    "collapsed": true
   },
   "outputs": [],
   "source": []
  }
 ],
 "metadata": {
  "anaconda-cloud": {},
  "kernelspec": {
   "display_name": "Python [conda root]",
   "language": "python",
   "name": "conda-root-py"
  },
  "language_info": {
   "codemirror_mode": {
    "name": "ipython",
    "version": 3
   },
   "file_extension": ".py",
   "mimetype": "text/x-python",
   "name": "python",
   "nbconvert_exporter": "python",
   "pygments_lexer": "ipython3",
   "version": "3.5.2"
  }
 },
 "nbformat": 4,
 "nbformat_minor": 1
}
