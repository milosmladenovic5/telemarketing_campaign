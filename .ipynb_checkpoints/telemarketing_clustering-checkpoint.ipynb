{
 "cells": [
  {
   "cell_type": "code",
   "execution_count": 7,
   "metadata": {
    "collapsed": false
   },
   "outputs": [],
   "source": [
    "from sklearn.utils import resample\n",
    "from sklearn.preprocessing import StandardScaler\n",
    "from imblearn.over_sampling import SMOTE\n",
    "from sklearn.metrics import classification_report\n",
    "from sklearn.cross_validation import train_test_split\n",
    "from sklearn.metrics import confusion_matrix\n",
    "from sklearn.cluster import KMeans\n",
    "from kmodes.kmodes import KModes\n",
    "\n",
    "\n",
    "import numpy as np\n",
    "import seaborn as sns\n",
    "import pandas as pd\n",
    "import seaborn as sns\n",
    "import matplotlib.pyplot as plt\n",
    "\n",
    "%matplotlib inline\n",
    "\n",
    "bank_data = pd.read_csv('bank-additional-full.csv')"
   ]
  },
  {
   "cell_type": "code",
   "execution_count": 3,
   "metadata": {
    "collapsed": true
   },
   "outputs": [],
   "source": [
    "#Handling categorical variables\n",
    "job = pd.get_dummies(bank_data['job'], drop_first = True)\n",
    "marital = pd.get_dummies(bank_data['marital'], drop_first = True)\n",
    "education = pd.get_dummies(bank_data['education'], drop_first = True)\n",
    "default = pd.get_dummies(bank_data['default'], drop_first = True)\n",
    "housing = pd.get_dummies(bank_data['housing'], drop_first = True)\n",
    "loan =  pd.get_dummies(bank_data['loan'], drop_first = True)\n",
    "contact = pd.get_dummies(bank_data['contact'], drop_first = True)\n",
    "month = pd.get_dummies(bank_data['month'], drop_first = True)\n",
    "day_of_week = pd.get_dummies(bank_data['day_of_week'], drop_first = True)\n",
    "poutcome = pd.get_dummies(bank_data['poutcome'], drop_first = True)\n",
    "\n",
    "#reduced set of features that is going to be concatenated to existing ones\n",
    "bank_data_red = pd.concat([job,marital,education,default,housing,loan,contact,month,day_of_week,poutcome], axis=1)"
   ]
  },
  {
   "cell_type": "code",
   "execution_count": 54,
   "metadata": {
    "collapsed": false
   },
   "outputs": [
    {
     "name": "stdout",
     "output_type": "stream",
     "text": [
      "\n"
     ]
    }
   ],
   "source": [
    "bank_data_tran = bank_data_red.join(bank_data)\n",
    "bank_data_tran.drop(['job', 'marital', 'education', 'default', 'housing', 'loan', 'contact', 'month', 'day_of_week', 'poutcome'], axis = 1, inplace = True)\n",
    "\n",
    "\n",
    "print(\"\")"
   ]
  },
  {
   "cell_type": "code",
   "execution_count": 55,
   "metadata": {
    "collapsed": true
   },
   "outputs": [],
   "source": [
    "def converter(cluster):\n",
    "    if cluster=='yes':\n",
    "        return 1\n",
    "    else:\n",
    "        return 0"
   ]
  },
  {
   "cell_type": "code",
   "execution_count": 67,
   "metadata": {
    "collapsed": false
   },
   "outputs": [
    {
     "name": "stdout",
     "output_type": "stream",
     "text": [
      "Init: initializing centroids\n",
      "Init: initializing clusters\n",
      "Starting iterations...\n",
      "Run 1, iteration: 1/100, moves: 7959, cost: 428287.0\n",
      "Run 1, iteration: 2/100, moves: 105, cost: 428287.0\n",
      "Init: initializing centroids\n",
      "Init: initializing clusters\n",
      "Starting iterations...\n",
      "Run 2, iteration: 1/100, moves: 6954, cost: 426024.0\n",
      "Run 2, iteration: 2/100, moves: 0, cost: 426024.0\n",
      "Init: initializing centroids\n",
      "Init: initializing clusters\n",
      "Starting iterations...\n",
      "Run 3, iteration: 1/100, moves: 9169, cost: 428159.0\n",
      "Run 3, iteration: 2/100, moves: 2317, cost: 428159.0\n",
      "Init: initializing centroids\n",
      "Init: initializing clusters\n",
      "Starting iterations...\n",
      "Run 4, iteration: 1/100, moves: 11637, cost: 421826.0\n",
      "Run 4, iteration: 2/100, moves: 1199, cost: 421826.0\n",
      "Init: initializing centroids\n",
      "Init: initializing clusters\n",
      "Starting iterations...\n",
      "Run 5, iteration: 1/100, moves: 10186, cost: 427127.0\n",
      "Run 5, iteration: 2/100, moves: 1920, cost: 427127.0\n",
      "Init: initializing centroids\n",
      "Init: initializing clusters\n",
      "Starting iterations...\n",
      "Run 6, iteration: 1/100, moves: 6212, cost: 424309.0\n",
      "Run 6, iteration: 2/100, moves: 7, cost: 424309.0\n",
      "Init: initializing centroids\n",
      "Init: initializing clusters\n",
      "Starting iterations...\n",
      "Run 7, iteration: 1/100, moves: 10793, cost: 427075.0\n",
      "Run 7, iteration: 2/100, moves: 6971, cost: 422902.0\n",
      "Run 7, iteration: 3/100, moves: 8, cost: 422902.0\n",
      "Init: initializing centroids\n",
      "Init: initializing clusters\n",
      "Starting iterations...\n",
      "Run 8, iteration: 1/100, moves: 10885, cost: 424054.0\n",
      "Run 8, iteration: 2/100, moves: 2280, cost: 424054.0\n",
      "Init: initializing centroids\n",
      "Init: initializing clusters\n",
      "Starting iterations...\n",
      "Run 9, iteration: 1/100, moves: 12957, cost: 423301.0\n",
      "Run 9, iteration: 2/100, moves: 3639, cost: 421960.0\n",
      "Run 9, iteration: 3/100, moves: 738, cost: 421960.0\n",
      "Init: initializing centroids\n",
      "Init: initializing clusters\n",
      "Starting iterations...\n",
      "Run 10, iteration: 1/100, moves: 12357, cost: 438227.0\n",
      "Run 10, iteration: 2/100, moves: 6369, cost: 432070.0\n",
      "Run 10, iteration: 3/100, moves: 16, cost: 432070.0\n",
      "Init: initializing centroids\n",
      "Init: initializing clusters\n",
      "Starting iterations...\n",
      "Run 11, iteration: 1/100, moves: 8521, cost: 441930.0\n",
      "Run 11, iteration: 2/100, moves: 5667, cost: 429842.0\n",
      "Run 11, iteration: 3/100, moves: 6042, cost: 425331.0\n",
      "Run 11, iteration: 4/100, moves: 2226, cost: 425331.0\n",
      "Init: initializing centroids\n",
      "Init: initializing clusters\n",
      "Starting iterations...\n",
      "Run 12, iteration: 1/100, moves: 15423, cost: 423993.0\n",
      "Run 12, iteration: 2/100, moves: 1776, cost: 423993.0\n",
      "Best run was number 4\n"
     ]
    },
    {
     "data": {
      "text/plain": [
       "KModes(cat_dissim=<function matching_dissim at 0x0000021066E41268>,\n",
       "    init='Huang', max_iter=100, n_clusters=2, n_init=12, verbose=1)"
      ]
     },
     "execution_count": 67,
     "metadata": {},
     "output_type": "execute_result"
    }
   ],
   "source": [
    "#kmeans = KMeans(n_clusters = 3, init = 'k-means++', max_iter = 400, n_init = 10, random_state = 0)\n",
    "#kmeans.fit(bank_data_tran)\n",
    "\n",
    "km = KModes(n_clusters=2, init='Huang', n_init=12, verbose=1)\n",
    "km.fit(bank_data.drop('y', axis=1))"
   ]
  },
  {
   "cell_type": "code",
   "execution_count": 68,
   "metadata": {
    "collapsed": false
   },
   "outputs": [],
   "source": [
    "bank_data['cluster'] = bank_data['y'].apply(converter)"
   ]
  },
  {
   "cell_type": "code",
   "execution_count": 69,
   "metadata": {
    "collapsed": false
   },
   "outputs": [
    {
     "name": "stdout",
     "output_type": "stream",
     "text": [
      "[[24397 12151]\n",
      " [ 3731   909]]\n",
      "             precision    recall  f1-score   support\n",
      "\n",
      "          0       0.87      0.67      0.75     36548\n",
      "          1       0.07      0.20      0.10      4640\n",
      "\n",
      "avg / total       0.78      0.61      0.68     41188\n",
      "\n"
     ]
    }
   ],
   "source": [
    "from sklearn.metrics import confusion_matrix,classification_report\n",
    "print(confusion_matrix(bank_data['cluster'],km.labels_))\n",
    "print(classification_report(bank_data['cluster'],km.labels_))"
   ]
  },
  {
   "cell_type": "code",
   "execution_count": 59,
   "metadata": {
    "collapsed": false
   },
   "outputs": [
    {
     "ename": "AttributeError",
     "evalue": "'KModes' object has no attribute 'cluster_centers_'",
     "output_type": "error",
     "traceback": [
      "\u001b[0;31m---------------------------------------------------------------------------\u001b[0m",
      "\u001b[0;31mAttributeError\u001b[0m                            Traceback (most recent call last)",
      "\u001b[0;32m<ipython-input-59-9dce187e8af0>\u001b[0m in \u001b[0;36m<module>\u001b[0;34m()\u001b[0m\n\u001b[0;32m----> 1\u001b[0;31m \u001b[0mkm\u001b[0m\u001b[1;33m.\u001b[0m\u001b[0mcluster_centers_\u001b[0m\u001b[1;33m\u001b[0m\u001b[0m\n\u001b[0m",
      "\u001b[0;31mAttributeError\u001b[0m: 'KModes' object has no attribute 'cluster_centers_'"
     ]
    }
   ],
   "source": []
  },
  {
   "cell_type": "code",
   "execution_count": null,
   "metadata": {
    "collapsed": true
   },
   "outputs": [],
   "source": []
  },
  {
   "cell_type": "code",
   "execution_count": null,
   "metadata": {
    "collapsed": true
   },
   "outputs": [],
   "source": []
  }
 ],
 "metadata": {
  "anaconda-cloud": {},
  "kernelspec": {
   "display_name": "Python [conda env:Anaconda3]",
   "language": "python",
   "name": "conda-env-Anaconda3-py"
  },
  "language_info": {
   "codemirror_mode": {
    "name": "ipython",
    "version": 3
   },
   "file_extension": ".py",
   "mimetype": "text/x-python",
   "name": "python",
   "nbconvert_exporter": "python",
   "pygments_lexer": "ipython3",
   "version": "3.5.2"
  }
 },
 "nbformat": 4,
 "nbformat_minor": 2
}
