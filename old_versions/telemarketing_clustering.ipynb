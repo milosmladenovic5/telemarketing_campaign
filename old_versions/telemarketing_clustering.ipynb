{
 "cells": [
  {
   "cell_type": "code",
   "execution_count": 1,
   "metadata": {
    "collapsed": false
   },
   "outputs": [
    {
     "name": "stderr",
     "output_type": "stream",
     "text": [
      "C:\\Users\\Milos\\Anaconda3\\lib\\site-packages\\sklearn\\cross_validation.py:41: DeprecationWarning: This module was deprecated in version 0.18 in favor of the model_selection module into which all the refactored classes and functions are moved. Also note that the interface of the new CV iterators are different from that of this module. This module will be removed in 0.20.\n",
      "  \"This module will be removed in 0.20.\", DeprecationWarning)\n"
     ]
    }
   ],
   "source": [
    "from sklearn.utils import resample\n",
    "from sklearn.preprocessing import StandardScaler\n",
    "from imblearn.over_sampling import SMOTE\n",
    "from sklearn.metrics import classification_report\n",
    "from sklearn.cross_validation import train_test_split\n",
    "from sklearn.metrics import confusion_matrix\n",
    "from sklearn.cluster import KMeans\n",
    "from kmodes.kmodes import KModes\n",
    "import warnings; warnings.simplefilter('ignore')\n",
    "\n",
    "import numpy as np\n",
    "import seaborn as sns\n",
    "import pandas as pd\n",
    "import seaborn as sns\n",
    "import matplotlib.pyplot as plt\n",
    "\n",
    "%matplotlib inline\n",
    "\n",
    "bank_data = pd.read_csv('bank-additional-full.csv')"
   ]
  },
  {
   "cell_type": "code",
   "execution_count": 2,
   "metadata": {
    "collapsed": true
   },
   "outputs": [],
   "source": [
    "#Handling categorical variables\n",
    "categorical_features = ['job', 'marital', 'education', 'default', 'housing', 'loan', 'contact', 'month','day_of_week', 'poutcome', 'y']\n",
    "bank_data_tran = pd.get_dummies(bank_data, columns = categorical_features, drop_first=True)"
   ]
  },
  {
   "cell_type": "code",
   "execution_count": 3,
   "metadata": {
    "collapsed": true
   },
   "outputs": [],
   "source": [
    "def converter(cluster):\n",
    "    if cluster==1:\n",
    "        return 1\n",
    "    else:\n",
    "        return 0"
   ]
  },
  {
   "cell_type": "code",
   "execution_count": 4,
   "metadata": {
    "collapsed": false
   },
   "outputs": [
    {
     "name": "stdout",
     "output_type": "stream",
     "text": [
      "Init: initializing centroids\n",
      "Init: initializing clusters\n",
      "Starting iterations...\n",
      "Run 1, iteration: 1/100, moves: 5420, cost: 440553.0\n",
      "Run 1, iteration: 2/100, moves: 1, cost: 440553.0\n",
      "Init: initializing centroids\n",
      "Init: initializing clusters\n",
      "Starting iterations...\n",
      "Run 2, iteration: 1/100, moves: 6764, cost: 458091.0\n",
      "Run 2, iteration: 2/100, moves: 1821, cost: 458070.0\n",
      "Run 2, iteration: 3/100, moves: 3, cost: 458070.0\n",
      "Init: initializing centroids\n",
      "Init: initializing clusters\n",
      "Starting iterations...\n",
      "Run 3, iteration: 1/100, moves: 6383, cost: 452328.0\n",
      "Run 3, iteration: 2/100, moves: 0, cost: 452328.0\n",
      "Init: initializing centroids\n",
      "Init: initializing clusters\n",
      "Starting iterations...\n",
      "Run 4, iteration: 1/100, moves: 9708, cost: 440544.0\n",
      "Run 4, iteration: 2/100, moves: 6, cost: 440544.0\n",
      "Init: initializing centroids\n",
      "Init: initializing clusters\n",
      "Starting iterations...\n",
      "Run 5, iteration: 1/100, moves: 9155, cost: 448066.0\n",
      "Run 5, iteration: 2/100, moves: 145, cost: 448051.0\n",
      "Run 5, iteration: 3/100, moves: 3, cost: 448051.0\n",
      "Init: initializing centroids\n",
      "Init: initializing clusters\n",
      "Starting iterations...\n",
      "Run 6, iteration: 1/100, moves: 7390, cost: 440581.0\n",
      "Run 6, iteration: 2/100, moves: 6, cost: 440581.0\n",
      "Init: initializing centroids\n",
      "Init: initializing clusters\n",
      "Starting iterations...\n",
      "Run 7, iteration: 1/100, moves: 5553, cost: 440551.0\n",
      "Run 7, iteration: 2/100, moves: 27, cost: 440544.0\n",
      "Run 7, iteration: 3/100, moves: 0, cost: 440544.0\n",
      "Init: initializing centroids\n",
      "Init: initializing clusters\n",
      "Starting iterations...\n",
      "Run 8, iteration: 1/100, moves: 13637, cost: 447110.0\n",
      "Run 8, iteration: 2/100, moves: 7110, cost: 440548.0\n",
      "Run 8, iteration: 3/100, moves: 1377, cost: 440544.0\n",
      "Run 8, iteration: 4/100, moves: 2, cost: 440544.0\n",
      "Init: initializing centroids\n",
      "Init: initializing clusters\n",
      "Starting iterations...\n",
      "Run 9, iteration: 1/100, moves: 9790, cost: 468898.0\n",
      "Run 9, iteration: 2/100, moves: 1005, cost: 469529.0\n",
      "Init: initializing centroids\n",
      "Init: initializing clusters\n",
      "Starting iterations...\n",
      "Run 10, iteration: 1/100, moves: 8581, cost: 447948.0\n",
      "Run 10, iteration: 2/100, moves: 7, cost: 447948.0\n",
      "Init: initializing centroids\n",
      "Init: initializing clusters\n",
      "Starting iterations...\n",
      "Run 11, iteration: 1/100, moves: 15127, cost: 442632.0\n",
      "Run 11, iteration: 2/100, moves: 271, cost: 442610.0\n",
      "Run 11, iteration: 3/100, moves: 4, cost: 442609.0\n",
      "Run 11, iteration: 4/100, moves: 0, cost: 442609.0\n",
      "Init: initializing centroids\n",
      "Init: initializing clusters\n",
      "Starting iterations...\n",
      "Run 12, iteration: 1/100, moves: 10655, cost: 448066.0\n",
      "Run 12, iteration: 2/100, moves: 71, cost: 448051.0\n",
      "Run 12, iteration: 3/100, moves: 9, cost: 448051.0\n",
      "Best run was number 4\n"
     ]
    },
    {
     "data": {
      "text/plain": [
       "KModes(cat_dissim=<function matching_dissim at 0x0000021EE50642F0>,\n",
       "    init='Huang', max_iter=100, n_clusters=2, n_init=12, verbose=1)"
      ]
     },
     "execution_count": 4,
     "metadata": {},
     "output_type": "execute_result"
    }
   ],
   "source": [
    "#kmeans = KMeans(n_clusters = 3, init = 'k-means++', max_iter = 400, n_init = 10, random_state = 0)\n",
    "#kmeans.fit(bank_data_tran)\n",
    "\n",
    "km = KModes(n_clusters=2, init='Huang', n_init=12, verbose=1)\n",
    "km.fit(bank_data_tran.drop('y_yes', axis=1))\n"
   ]
  },
  {
   "cell_type": "code",
   "execution_count": 5,
   "metadata": {
    "collapsed": false
   },
   "outputs": [
    {
     "name": "stdout",
     "output_type": "stream",
     "text": [
      "SSD is : 440544.0\n"
     ]
    }
   ],
   "source": [
    "km.\n",
    "\n",
    "print(\"SSD is :\", km.cost__)"
   ]
  },
  {
   "cell_type": "code",
   "execution_count": 13,
   "metadata": {
    "collapsed": false
   },
   "outputs": [],
   "source": [
    "bank_data_tran['cluster'] = bank_data_tran['y_yes'].apply(converter)"
   ]
  },
  {
   "cell_type": "code",
   "execution_count": 69,
   "metadata": {
    "collapsed": false
   },
   "outputs": [
    {
     "name": "stdout",
     "output_type": "stream",
     "text": [
      "[[24397 12151]\n",
      " [ 3731   909]]\n",
      "             precision    recall  f1-score   support\n",
      "\n",
      "          0       0.87      0.67      0.75     36548\n",
      "          1       0.07      0.20      0.10      4640\n",
      "\n",
      "avg / total       0.78      0.61      0.68     41188\n",
      "\n"
     ]
    }
   ],
   "source": [
    "from sklearn.metrics import confusion_matrix,classification_report\n",
    "print(confusion_matrix(bank_data['cluster'],km.labels_))\n",
    "print(classification_report(bank_data['cluster'],km.labels_))"
   ]
  },
  {
   "cell_type": "code",
   "execution_count": 59,
   "metadata": {
    "collapsed": false
   },
   "outputs": [
    {
     "ename": "AttributeError",
     "evalue": "'KModes' object has no attribute 'cluster_centers_'",
     "output_type": "error",
     "traceback": [
      "\u001b[0;31m---------------------------------------------------------------------------\u001b[0m",
      "\u001b[0;31mAttributeError\u001b[0m                            Traceback (most recent call last)",
      "\u001b[0;32m<ipython-input-59-9dce187e8af0>\u001b[0m in \u001b[0;36m<module>\u001b[0;34m()\u001b[0m\n\u001b[0;32m----> 1\u001b[0;31m \u001b[0mkm\u001b[0m\u001b[1;33m.\u001b[0m\u001b[0mcluster_centers_\u001b[0m\u001b[1;33m\u001b[0m\u001b[0m\n\u001b[0m",
      "\u001b[0;31mAttributeError\u001b[0m: 'KModes' object has no attribute 'cluster_centers_'"
     ]
    }
   ],
   "source": [
    "# Using the dendrogram to find the optimal number of clusters\n",
    "import scipy.cluster.hierarchy as sch\n",
    "dendrogram = sch.dendrogram(sch.linkage(bank_data_tran.values, method = 'ward'))\n",
    "plt.title('Dendrogram')\n",
    "plt.xlabel('Customers')\n",
    "plt.ylabel('Euclidean distances')\n",
    "plt.show()"
   ]
  },
  {
   "cell_type": "code",
   "execution_count": 10,
   "metadata": {
    "collapsed": false
   },
   "outputs": [
    {
     "data": {
      "image/png": "[encoded data removed]",
      "text/plain": [
       "<matplotlib.figure.Figure at 0x21ee887ad30>"
      ]
     },
     "metadata": {},
     "output_type": "display_data"
    }
   ],
   "source": [
    "from sklearn.cluster import KMeans \n",
    "wcss = []\n",
    "\n",
    "max_clusters = 6\n",
    "for i in  range (1, max_clusters):\n",
    "    kmeans = KMeans(n_clusters = i, init = 'k-means++', max_iter = 300, n_init = 10, random_state = 0)\n",
    "    kmeans.fit(bank_data_tran.drop('y_yes', axis=1))\n",
    "    wcss.append(kmeans.inertia_)\n",
    "plt.plot(range(1, max_clusters), wcss)\n",
    "plt.title('The Elbow method')\n",
    "plt.xlabel('Number of clusters')\n",
    "plt.ylabel('WCSS')\n",
    "plt.show()"
   ]
  },
  {
   "cell_type": "code",
   "execution_count": 16,
   "metadata": {
    "collapsed": false
   },
   "outputs": [
    {
     "data": {
      "text/plain": [
       "1320962635.8888199"
      ]
     },
     "execution_count": 16,
     "metadata": {},
     "output_type": "execute_result"
    }
   ],
   "source": [
    "means = KMeans(n_clusters = 3, init = 'k-means++', max_iter = 300, n_init = 10, random_state = 0)\n",
    "means.fit(bank_data_tran.drop('y_yes', axis = 1))\n",
    "\n",
    "means.inertia_"
   ]
  },
  {
   "cell_type": "code",
   "execution_count": null,
   "metadata": {
    "collapsed": true
   },
   "outputs": [],
   "source": []
  }
 ],
 "metadata": {
  "anaconda-cloud": {},
  "kernelspec": {
   "display_name": "Python [conda env:Anaconda3]",
   "language": "python",
   "name": "conda-env-Anaconda3-py"
  },
  "language_info": {
   "codemirror_mode": {
    "name": "ipython",
    "version": 3
   },
   "file_extension": ".py",
   "mimetype": "text/x-python",
   "name": "python",
   "nbconvert_exporter": "python",
   "pygments_lexer": "ipython3",
   "version": "3.5.2"
  }
 },
 "nbformat": 4,
 "nbformat_minor": 2
}
