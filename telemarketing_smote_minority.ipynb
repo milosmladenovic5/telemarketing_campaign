{
 "cells": [
  {
   "cell_type": "code",
   "execution_count": 1,
   "metadata": {
    "collapsed": false
   },
   "outputs": [
    {
     "name": "stderr",
     "output_type": "stream",
     "text": [
      "C:\\Users\\Milos\\Anaconda3\\lib\\site-packages\\sklearn\\cross_validation.py:41: DeprecationWarning: This module was deprecated in version 0.18 in favor of the model_selection module into which all the refactored classes and functions are moved. Also note that the interface of the new CV iterators are different from that of this module. This module will be removed in 0.20.\n",
      "  \"This module will be removed in 0.20.\", DeprecationWarning)\n"
     ]
    }
   ],
   "source": [
    "from sklearn.utils import resample\n",
    "from sklearn.preprocessing import StandardScaler\n",
    "from imblearn.over_sampling import SMOTE\n",
    "from sklearn.metrics import classification_report\n",
    "from sklearn.cross_validation import train_test_split\n",
    "from sklearn.metrics import confusion_matrix, roc_curve, roc_auc_score\n",
    "from sklearn.metrics import average_precision_score\n",
    "from sklearn.metrics import precision_recall_curve\n",
    "from sklearn.metrics import auc\n",
    "\n",
    "from sklearn.linear_model import LogisticRegression\n",
    "from sklearn.tree import DecisionTreeClassifier\n",
    "from sklearn.ensemble import RandomForestClassifier\n",
    "from sklearn.neighbors import KNeighborsClassifier\n",
    "from sklearn.svm import SVC\n",
    "\n",
    "from sklearn.metrics import confusion_matrix\n",
    "\n",
    "import seaborn as sns\n",
    "import pandas as pd\n",
    "import seaborn as sns\n",
    "import matplotlib.pyplot as plt\n",
    "import numpy as np\n",
    "\n",
    "\n",
    "%matplotlib inline\n",
    "\n",
    "bank_data = pd.read_csv('bank-additional-full.csv')"
   ]
  },
  {
   "cell_type": "code",
   "execution_count": 22,
   "metadata": {
    "collapsed": false
   },
   "outputs": [],
   "source": [
    "#Handling categorical variables\n",
    "categorical_features = ['job', 'marital', 'education', 'default', 'housing', 'loan', 'contact', 'month','day_of_week', 'poutcome', 'y']\n",
    "bank_data_tran = pd.get_dummies(bank_data, columns = categorical_features, drop_first=True)\n",
    "\n",
    "#because of the high correlation coefficient between euribor3m rate and nr. of employed, the latter is going to be dropped\n",
    "bank_data_tran.drop(['nr.employed'], axis = 1, inplace = True)\n",
    "\n",
    "#apllying the same logic, emp.var.rate is going to be dropped\n",
    "bank_data_tran.drop(['emp.var.rate'], axis = 1, inplace = True)"
   ]
  },
  {
   "cell_type": "code",
   "execution_count": 18,
   "metadata": {
    "collapsed": true
   },
   "outputs": [],
   "source": [
    "#Data preprocessing and splitting and scaling\n",
    "x = bank_data_tran.iloc[:,bank_data_tran.columns != 'y_yes'].values\n",
    "y = bank_data_tran.iloc[:, -1].values\n",
    "\n",
    "x_train, x_test, y_train, y_test = train_test_split(x, y, test_size = 0.2, random_state = 0)\n",
    "x_train, x_val, y_train, y_val = train_test_split(x_train, y_train, test_size = 0.2, random_state = 0)"
   ]
  },
  {
   "cell_type": "code",
   "execution_count": 35,
   "metadata": {
    "collapsed": false
   },
   "outputs": [
    {
     "name": "stderr",
     "output_type": "stream",
     "text": [
      "C:\\Users\\Milos\\Anaconda3\\lib\\site-packages\\sklearn\\utils\\deprecation.py:77: DeprecationWarning: Function _ratio_float is deprecated; Use a float for 'ratio' is deprecated from version 0.2. The support will be removed in 0.4. Use a dict, str, or a callable instead.\n",
      "  warnings.warn(msg, category=DeprecationWarning)\n"
     ]
    }
   ],
   "source": [
    "sm = SMOTE(random_state=12, ratio = 1.0, k_neighbors = 5)\n",
    "x_train_res, y_train_res = sm.fit_sample(x_train, y_train)"
   ]
  },
  {
   "cell_type": "code",
   "execution_count": 36,
   "metadata": {
    "collapsed": false
   },
   "outputs": [
    {
     "name": "stdout",
     "output_type": "stream",
     "text": [
      "Validation set predictions: \n",
      "\n",
      "             precision    recall  f1-score   support\n",
      "\n",
      "          0       0.94      0.93      0.94      5841\n",
      "          1       0.51      0.53      0.52       749\n",
      "\n",
      "avg / total       0.89      0.89      0.89      6590\n",
      "\n",
      "\n",
      " Confusion matrix:\n",
      "  [[5461  380]\n",
      " [ 355  394]]\n",
      "\n",
      "Area under precission-recall is: 0.54447406992\n"
     ]
    }
   ],
   "source": [
    "#Decision tree algorithm\n",
    "\n",
    "td_classifier = DecisionTreeClassifier(criterion='entropy', random_state = 0, splitter = 'best')\n",
    "td_classifier.fit(x_train_res, y_train_res)\n",
    "\n",
    "predictions_DT_val = td_classifier.predict(x_val)\n",
    "print(\"Validation set predictions: \\n\\n\" + classification_report(y_val,predictions_DT_val))\n",
    "\n",
    "print(\"\\n Confusion matrix:\\n \" , confusion_matrix(y_val, predictions_DT_val))\n",
    "\n",
    "precision, recall, thresholds = precision_recall_curve(y_val, td_classifier.predict_proba(x_val)[:,1])\n",
    "area = auc(recall, precision)\n",
    "print(\"\\nArea under precission-recall is:\", area)"
   ]
  },
  {
   "cell_type": "code",
   "execution_count": 37,
   "metadata": {
    "collapsed": false
   },
   "outputs": [
    {
     "name": "stdout",
     "output_type": "stream",
     "text": [
      "Average precision-recall score: 0.37\n",
      "\n",
      "Area under precission-recall is: 0.649656501921\n",
      "\n",
      "Validation set predictions: \n",
      "\n",
      "             precision    recall  f1-score   support\n",
      "\n",
      "          0       0.94      0.96      0.95      5841\n",
      "          1       0.62      0.50      0.56       749\n",
      "\n",
      "avg / total       0.90      0.91      0.90      6590\n",
      "\n"
     ]
    },
    {
     "data": {
      "text/plain": [
       "'\\n##Computing false and true positive rates\\nfpr, tpr,_=roc_curve(y_val, predictions_RF_val, drop_intermediate=False)\\n\\nimport matplotlib.pyplot as plt\\nplt.figure()\\n##Adding the ROC\\nplt.plot(fpr, tpr, color=\\'red\\',\\n lw=2, label=\\'ROC curve\\')\\n##Random FPR and TPR\\nplt.plot([0, 1], [0, 1], color=\\'blue\\', lw=2, linestyle=\\'--\\')\\n##Title and label\\nplt.xlabel(\\'FPR\\')\\nplt.ylabel(\\'TPR\\')\\nplt.title(\\'ROC curve\\')\\nplt.show() \\n\\nprint(\"Score\", roc_auc_score(y_val, predictions_RF_val))'"
      ]
     },
     "execution_count": 37,
     "metadata": {},
     "output_type": "execute_result"
    }
   ],
   "source": [
    "#Random Forest Classification Algorithm\n",
    "\n",
    "# Fitting Random Forest Classification to the Training set\n",
    "classifier = RandomForestClassifier(n_estimators = 1000, criterion = 'entropy', random_state = 0)\n",
    "classifier.fit(x_train_res, y_train_res)\n",
    "\n",
    "# Predicting the Test set results\n",
    "predictions_RF_val = classifier.predict(x_val)\n",
    "\n",
    "# Making the Confusion Matrix\n",
    "#from sklearn.metrics import confusion_matrix\n",
    "#cm = confusion_matrix(y_val, predictions_RF)\n",
    "\n",
    "from sklearn.metrics import average_precision_score\n",
    "average_precision = average_precision_score(y_val, predictions_RF_val)\n",
    "print('Average precision-recall score: {0:0.2f}'.format(\n",
    "      average_precision))\n",
    "\n",
    "precision, recall, thresholds = precision_recall_curve(y_val, classifier.predict_proba(x_val)[:,1])\n",
    "area = auc(recall, precision)\n",
    "print(\"\\nArea under precission-recall is:\", area)\n",
    "\n",
    "print(\"\\nValidation set predictions: \\n\\n\" + classification_report(y_val,predictions_RF_val))\n",
    "\n",
    "#predictions_RF_test = classifier.predict(x_test)\n",
    "#print(\"Test predictions:\\n\\n \" + classification_report(y_test, predictions_RF_test))\n",
    "\n",
    "\"\"\"\n",
    "##Computing false and true positive rates\n",
    "fpr, tpr,_=roc_curve(y_val, predictions_RF_val, drop_intermediate=False)\n",
    "\n",
    "import matplotlib.pyplot as plt\n",
    "plt.figure()\n",
    "##Adding the ROC\n",
    "plt.plot(fpr, tpr, color='red',\n",
    " lw=2, label='ROC curve')\n",
    "##Random FPR and TPR\n",
    "plt.plot([0, 1], [0, 1], color='blue', lw=2, linestyle='--')\n",
    "##Title and label\n",
    "plt.xlabel('FPR')\n",
    "plt.ylabel('TPR')\n",
    "plt.title('ROC curve')\n",
    "plt.show() \n",
    "\n",
    "print(\"Score\", roc_auc_score(y_val, predictions_RF_val))\"\"\""
   ]
  },
  {
   "cell_type": "code",
   "execution_count": 60,
   "metadata": {
    "collapsed": false
   },
   "outputs": [],
   "source": [
    "# Feature Scaling\n",
    "sc = StandardScaler()\n",
    "x_train_res = sc.fit_transform(x_train_res)\n",
    "x_test = sc.transform(x_test)\n",
    "x_val = sc.transform(x_val)"
   ]
  },
  {
   "cell_type": "code",
   "execution_count": 13,
   "metadata": {
    "collapsed": false
   },
   "outputs": [
    {
     "name": "stdout",
     "output_type": "stream",
     "text": [
      "Area is 0.575117507785\n",
      "             precision    recall  f1-score   support\n",
      "\n",
      "          0       0.98      0.86      0.91      5841\n",
      "          1       0.44      0.87      0.58       749\n",
      "\n",
      "avg / total       0.92      0.86      0.88      6590\n",
      "\n",
      "\n",
      "Area under precission-recall is: 0.575117507785\n"
     ]
    },
    {
     "data": {
      "text/plain": [
       "\"##Computing false and true positive rates\\nfpr, tpr,_=roc_curve(predictions_LR,y_val,drop_intermediate=False)\\n\\nimport matplotlib.pyplot as plt\\nplt.figure()\\n##Adding the ROC\\nplt.plot(fpr, tpr, color='red',\\n lw=2, label='ROC curve')\\n##Random FPR and TPR\\nplt.plot([0, 1], [0, 1], color='blue', lw=2, linestyle='--')\\n##Title and label\\nplt.xlabel('FPR')\\nplt.ylabel('TPR')\\nplt.title('ROC curve')\\nplt.show() \""
      ]
     },
     "execution_count": 13,
     "metadata": {},
     "output_type": "execute_result"
    }
   ],
   "source": [
    "#Logistic Regression Algorithm\n",
    "\n",
    "logdown = LogisticRegression()\n",
    "logdown.fit(x_train_res, y_train_res)\n",
    "predictions_LR = logdown.predict(x_val)\n",
    "\n",
    "precision, recall, thresholds = precision_recall_curve(y_val, logdown.predict_proba(x_val)[:,1])\n",
    "area = auc(recall, precision)\n",
    "print(\"Area is\", area)\n",
    "\n",
    "print(classification_report(y_val,predictions_LR))\n",
    "\n",
    "precision, recall, thresholds = precision_recall_curve(y_val, logdown.predict_proba(x_val)[:,1])\n",
    "area = auc(recall, precision)\n",
    "print(\"\\nArea under precission-recall is:\", area)\n",
    "\n",
    "\"\"\"##Computing false and true positive rates\n",
    "fpr, tpr,_=roc_curve(predictions_LR,y_val,drop_intermediate=False)\n",
    "\n",
    "import matplotlib.pyplot as plt\n",
    "plt.figure()\n",
    "##Adding the ROC\n",
    "plt.plot(fpr, tpr, color='red',\n",
    " lw=2, label='ROC curve')\n",
    "##Random FPR and TPR\n",
    "plt.plot([0, 1], [0, 1], color='blue', lw=2, linestyle='--')\n",
    "##Title and label\n",
    "plt.xlabel('FPR')\n",
    "plt.ylabel('TPR')\n",
    "plt.title('ROC curve')\n",
    "plt.show() \"\"\""
   ]
  },
  {
   "cell_type": "code",
   "execution_count": 14,
   "metadata": {
    "collapsed": false
   },
   "outputs": [
    {
     "data": {
      "text/plain": [
       "<matplotlib.text.Text at 0x24c5166c630>"
      ]
     },
     "execution_count": 14,
     "metadata": {},
     "output_type": "execute_result"
    },
    {
     "data": {
      "image/png": "[encoded data removed]",
      "text/plain": [
       "<matplotlib.figure.Figure at 0x24c51657e10>"
      ]
     },
     "metadata": {},
     "output_type": "display_data"
    }
   ],
   "source": [
    "y_pred_prob = logdown.predict_proba(x_val)[:, 1]\n",
    "\n",
    "plt.rcParams['font.size'] = 14\n",
    "plt.hist(y_pred_prob, bins = 8)\n",
    "plt.xlim(0,1)\n",
    "plt.title(\"Historgram of predicted probabilities\")\n",
    "plt.xlabel(\"Predicted probability of telemarketing\")\n",
    "plt.ylabel(\"Frequency\")\n"
   ]
  },
  {
   "cell_type": "code",
   "execution_count": 15,
   "metadata": {
    "collapsed": false
   },
   "outputs": [
    {
     "name": "stdout",
     "output_type": "stream",
     "text": [
      "[[3500 2341]\n",
      " [   5  744]]\n",
      "             precision    recall  f1-score   support\n",
      "\n",
      "          0       1.00      0.60      0.75      5841\n",
      "          1       0.24      0.99      0.39       749\n",
      "\n",
      "avg / total       0.91      0.64      0.71      6590\n",
      "\n",
      "Average precision-recall score: 0.24\n"
     ]
    },
    {
     "data": {
      "image/png": "[encoded data removed]",
      "text/plain": [
       "<matplotlib.figure.Figure at 0x24c5177d588>"
      ]
     },
     "metadata": {},
     "output_type": "display_data"
    }
   ],
   "source": [
    "#Since we can see highest number of instances have class probability around 0.25, we will set that as a limit, maybe 0.3\n",
    "y_pred_prob = y_pred_prob.reshape(1,-1)\n",
    "from sklearn.preprocessing import binarize\n",
    "y_pred_class = binarize(y_pred_prob, 0.1)[0]\n",
    "\n",
    "print (confusion_matrix(y_val, y_pred_class))\n",
    "print(classification_report(y_val,y_pred_class))\n",
    "\n",
    "from sklearn.metrics import average_precision_score\n",
    "average_precision = average_precision_score(y_val, y_pred_class)\n",
    "print('Average precision-recall score: {0:0.2f}'.format(\n",
    "      average_precision))\n",
    "\n",
    "##Computing false and true positive rates\n",
    "fpr, tpr,_=roc_curve(y_val, y_pred_class,drop_intermediate=False)\n",
    "\n",
    "import matplotlib.pyplot as plt\n",
    "plt.figure()\n",
    "##Adding the ROC\n",
    "plt.plot(fpr, tpr, color='red',\n",
    " lw=2, label='ROC curve')\n",
    "##Random FPR and TPR\n",
    "plt.plot([0, 1], [0, 1], color='blue', lw=2, linestyle='--')\n",
    "##Title and label\n",
    "plt.xlabel('FPR')\n",
    "plt.ylabel('TPR')\n",
    "plt.title('ROC curve')\n",
    "plt.show() \n",
    "\n"
   ]
  },
  {
   "cell_type": "code",
   "execution_count": 31,
   "metadata": {
    "collapsed": true
   },
   "outputs": [],
   "source": [
    "#SVM algorithm\n",
    "\n",
    "#svm_classifier = SVC(kernel = 'linear', random_state = 0)\n",
    "#svm_classifier.fit(x_train, y_train)\n",
    "\n",
    "#predictions_SVC_val = svm_classifier.predict(x_val)\n",
    "#print(\"Validation set predictions: \\n\\n\" + classification_report(y_val,predictions_SVC_val))\n",
    "\n",
    "#predictions_SVC_test = svm_classifier.predict(x_test)\n",
    "#print(\"Test set predictions:\\n\\n\" + classification_report(y_test, predictions_SVC_test))"
   ]
  },
  {
   "cell_type": "code",
   "execution_count": 16,
   "metadata": {
    "collapsed": false
   },
   "outputs": [],
   "source": [
    "#KNN Algorithm\n",
    "\n",
    "#knn_classifier = KNeighborsClassifier(n_neighbors=25, metric = 'minkowski', p = 2)\n",
    "#knn_classifier.fit(x_train, y_train)\n",
    "\n",
    "#predictions_KNN_val = knn_classifier.predict(x_val)\n",
    "#print(\"Validation set predictions: \\n\\n\" + classification_report(y_val,predictions_KNN_val))\n",
    "\n",
    "error_rate = []\n",
    "\n",
    "# Will take some time\n",
    "for i in range(1,50):    \n",
    "    knn_classifier = KNeighborsClassifier(n_neighbors=i, metric = 'minkowski', p = 2)\n",
    "    knn_classifier.fit(x_train, y_train)\n",
    "    pred_i = knn_classifier.predict(x_val)\n",
    "    error_rate.append(np.mean(pred_i != y_val))\n",
    "#predictions_KNN_test = knn_classifier.predict(x_test)\n",
    "#print(\"Test set predictions:\\n\\n\" + classification_report(y_test, predictions_KNN_test))\n",
    "\n",
    "\n",
    "\n",
    "\n"
   ]
  },
  {
   "cell_type": "code",
   "execution_count": 21,
   "metadata": {
    "collapsed": false
   },
   "outputs": [
    {
     "data": {
      "text/plain": [
       "<matplotlib.text.Text at 0x24c51d432e8>"
      ]
     },
     "execution_count": 21,
     "metadata": {},
     "output_type": "execute_result"
    },
    {
     "data": {
      "image/png": "[encoded data removed]",
      "text/plain": [
       "<matplotlib.figure.Figure at 0x24c51acd780>"
      ]
     },
     "metadata": {},
     "output_type": "display_data"
    }
   ],
   "source": [
    "plt.figure(figsize=(7,5))\n",
    "plt.plot(range(1,50),error_rate,color='blue', linestyle='dashed', marker='o',\n",
    "         markerfacecolor='red', markersize=10)\n",
    "plt.title('Error Rate vs. K Value')\n",
    "plt.xlabel('K')\n",
    "plt.ylabel('Error Rate')"
   ]
  },
  {
   "cell_type": "code",
   "execution_count": 19,
   "metadata": {
    "collapsed": false
   },
   "outputs": [
    {
     "name": "stdout",
     "output_type": "stream",
     "text": [
      "Validation set predictions: \n",
      "\n",
      "             precision    recall  f1-score   support\n",
      "\n",
      "          0       0.98      0.83      0.90      5841\n",
      "          1       0.40      0.89      0.55       749\n",
      "\n",
      "avg / total       0.92      0.84      0.86      6590\n",
      "\n",
      "\n",
      "Area under precission-recall is: 0.583211855571\n"
     ]
    },
    {
     "data": {
      "text/plain": [
       "\"##Computing false and true positive rates\\nfpr, tpr,_=roc_curve(y_val, pred_i, drop_intermediate=False)\\n\\nimport matplotlib.pyplot as plt\\nplt.figure()\\n##Adding the ROC\\nplt.plot(fpr, tpr, color='red',\\n lw=2, label='ROC curve')\\n##Random FPR and TPR\\nplt.plot([0, 1], [0, 1], color='blue', lw=2, linestyle='--')\\n##Title and label\\nplt.xlabel('FPR')\\nplt.ylabel('TPR')\\nplt.title('ROC curve')\\nplt.show() \""
      ]
     },
     "execution_count": 19,
     "metadata": {},
     "output_type": "execute_result"
    }
   ],
   "source": [
    "knn_classifier = KNeighborsClassifier(n_neighbors=28, metric = 'minkowski', p = 2)\n",
    "knn_classifier.fit(x_train_res, y_train_res)\n",
    "pred_i = knn_classifier.predict(x_val)\n",
    "\n",
    "print(\"Validation set predictions: \\n\\n\" + classification_report(y_val,pred_i))\n",
    "\n",
    "precision, recall, thresholds = precision_recall_curve(y_val, knn_classifier.predict_proba(x_val)[:,1])\n",
    "area = auc(recall, precision)\n",
    "print(\"\\nArea under precission-recall is:\", area)\n",
    "\n",
    "\"\"\"##Computing false and true positive rates\n",
    "fpr, tpr,_=roc_curve(y_val, pred_i, drop_intermediate=False)\n",
    "\n",
    "import matplotlib.pyplot as plt\n",
    "plt.figure()\n",
    "##Adding the ROC\n",
    "plt.plot(fpr, tpr, color='red',\n",
    " lw=2, label='ROC curve')\n",
    "##Random FPR and TPR\n",
    "plt.plot([0, 1], [0, 1], color='blue', lw=2, linestyle='--')\n",
    "##Title and label\n",
    "plt.xlabel('FPR')\n",
    "plt.ylabel('TPR')\n",
    "plt.title('ROC curve')\n",
    "plt.show() \"\"\""
   ]
  },
  {
   "cell_type": "code",
   "execution_count": 20,
   "metadata": {
    "collapsed": false
   },
   "outputs": [
    {
     "name": "stdout",
     "output_type": "stream",
     "text": [
      "GaussianNB(priors=None)\n",
      "             precision    recall  f1-score   support\n",
      "\n",
      "          0       0.94      0.90      0.92      5841\n",
      "          1       0.41      0.57      0.48       749\n",
      "\n",
      "avg / total       0.88      0.86      0.87      6590\n",
      "\n",
      "[[5228  613]\n",
      " [ 324  425]]\n",
      "\n",
      "Area under precission-recall is: 0.4814017045\n"
     ]
    }
   ],
   "source": [
    "# Gaussian Naive Bayes\n",
    "from sklearn import metrics\n",
    "from sklearn.naive_bayes import GaussianNB\n",
    "# load the iris datasets\n",
    "# fit a Naive Bayes model to the data\n",
    "model = GaussianNB()\n",
    "model.fit(x_train_res, y_train_res)\n",
    "print(model)\n",
    "# make predictions\n",
    "predicted = model.predict(x_val)\n",
    "# summarize the fit of the model\n",
    "print(metrics.classification_report(y_val, predicted))\n",
    "print(metrics.confusion_matrix(y_val, predicted))\n",
    "\n",
    "precision, recall, thresholds = precision_recall_curve(y_val, model.predict_proba(x_val)[:,1])\n",
    "area = auc(recall, precision)\n",
    "print(\"\\nArea under precission-recall is:\", area)"
   ]
  },
  {
   "cell_type": "code",
   "execution_count": null,
   "metadata": {
    "collapsed": true
   },
   "outputs": [],
   "source": []
  },
  {
   "cell_type": "code",
   "execution_count": null,
   "metadata": {
    "collapsed": true
   },
   "outputs": [],
   "source": []
  }
 ],
 "metadata": {
  "anaconda-cloud": {},
  "kernelspec": {
   "display_name": "Python [conda root]",
   "language": "python",
   "name": "conda-root-py"
  },
  "language_info": {
   "codemirror_mode": {
    "name": "ipython",
    "version": 3
   },
   "file_extension": ".py",
   "mimetype": "text/x-python",
   "name": "python",
   "nbconvert_exporter": "python",
   "pygments_lexer": "ipython3",
   "version": "3.5.2"
  }
 },
 "nbformat": 4,
 "nbformat_minor": 1
}
